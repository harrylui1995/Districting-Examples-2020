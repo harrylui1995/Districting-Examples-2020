{
 "cells": [
  {
   "cell_type": "code",
   "execution_count": 1,
   "metadata": {},
   "outputs": [],
   "source": [
    "import json\n",
    "from networkx.readwrite import json_graph\n",
    "\n",
    "def read_graph_from_json(json_file):\n",
    "    with open(json_file) as f:\n",
    "        data = json.load(f)\n",
    "    return json_graph.adjacency_graph(data) "
   ]
  },
  {
   "cell_type": "code",
   "execution_count": 2,
   "metadata": {},
   "outputs": [],
   "source": [
    "# Read Oklahoma county graph from the json file \"OK_county.json\"\n",
    "filepath = 'districting-data/'\n",
    "filename = 'OK_county.json'\n",
    "\n",
    "G = read_graph_from_json( filepath + filename )"
   ]
  },
  {
   "cell_type": "code",
   "execution_count": 3,
   "metadata": {},
   "outputs": [],
   "source": [
    "for node in G.nodes:\n",
    "    G.nodes[node]['TOTPOP'] = G.nodes[node]['P0010001']"
   ]
  },
  {
   "cell_type": "code",
   "execution_count": 4,
   "metadata": {},
   "outputs": [
    {
     "name": "stdout",
     "output_type": "stream",
     "text": [
      "Using L = 783952 and U = 799789 and k = 5\n"
     ]
    }
   ],
   "source": [
    "# Let's impose a 2% population deviation (+/-1%)\n",
    "deviation = 0.02\n",
    "\n",
    "import math\n",
    "k = 5          # number of districts\n",
    "total_population = sum( G.nodes[node]['TOTPOP'] for node in G.nodes )\n",
    "\n",
    "L = math.ceil( ( 1 - deviation / 2 ) * total_population / k )\n",
    "U = math.floor( ( 1 + deviation / 2 ) * total_population / k )\n",
    "print(\"Using L =\",L,\"and U =\",U,\"and k =\",k)"
   ]
  },
  {
   "cell_type": "code",
   "execution_count": 5,
   "metadata": {},
   "outputs": [
    {
     "name": "stdout",
     "output_type": "stream",
     "text": [
      "Set parameter Username\n",
      "Academic license - for non-commercial use only - expires 2024-09-03\n"
     ]
    }
   ],
   "source": [
    "import gurobipy as gp\n",
    "from gurobipy import GRB\n",
    "\n",
    "# create model \n",
    "m = gp.Model()\n",
    "\n",
    "# create variables\n",
    "x = m.addVars(G.nodes, k, vtype=GRB.BINARY) # x[i,j] equals one when county i is assigned to district j\n",
    "y = m.addVars(G.edges, vtype=GRB.BINARY)    # y[u,v] equals one when edge {u,v} is cut"
   ]
  },
  {
   "cell_type": "code",
   "execution_count": 6,
   "metadata": {},
   "outputs": [],
   "source": [
    "# objective is to minimize cut edges\n",
    "m.setObjective( gp.quicksum( y[u,v] for u,v in G.edges ), GRB.MINIMIZE )"
   ]
  },
  {
   "cell_type": "code",
   "execution_count": 7,
   "metadata": {},
   "outputs": [],
   "source": [
    "# add constraints saying that each county i is assigned to one district\n",
    "m.addConstrs( gp.quicksum(x[i,j] for j in range(k)) == 1 for i in G.nodes)\n",
    "\n",
    "# add constraints saying that each district has population at least L and at most U\n",
    "m.addConstrs( gp.quicksum( G.nodes[i]['TOTPOP'] * x[i,j] for i in G.nodes) >= L for j in range(k) )\n",
    "m.addConstrs( gp.quicksum( G.nodes[i]['TOTPOP'] * x[i,j] for i in G.nodes) <= U for j in range(k) )\n",
    "\n",
    "# add constraints saying that edge {u,v} is cut if u is assigned to district j but v is not.\n",
    "m.addConstrs( x[u,j] - x[v,j] <= y[u,v] for u,v in G.edges for j in range(k))\n",
    "\n",
    "m.update()"
   ]
  },
  {
   "cell_type": "code",
   "execution_count": 8,
   "metadata": {},
   "outputs": [],
   "source": [
    "# Now, let's add contiguity constraints and re-solve the model.\n",
    "# We will use the contiguity constraints of Hojny et al. (MPC, 2021)\n",
    "#   https://link.springer.com/article/10.1007/s12532-020-00186-3\n",
    "\n",
    "# Add root variables: r[i,j] equals 1 if node i is the \"root\" of district j\n",
    "r = m.addVars( G.nodes, k, vtype=GRB.BINARY )\n",
    "\n",
    "# Add flow variables: f[u,v] = amount of flow sent across arc uv \n",
    "#  Flows are sent across arcs of the directed version of G which we call DG\n",
    "\n",
    "import networkx as nx\n",
    "DG = nx.DiGraph(G)      # directed version of G\n",
    "\n",
    "f = m.addVars( DG.edges )"
   ]
  },
  {
   "cell_type": "code",
   "execution_count": 9,
   "metadata": {},
   "outputs": [],
   "source": [
    "# The big-M proposed by Hojny et al.\n",
    "M = G.number_of_nodes() - k + 1\n",
    "\n",
    "# Each district j should have one root\n",
    "m.addConstrs( gp.quicksum( r[i,j] for i in G.nodes ) == 1 for j in range(k) )\n",
    "\n",
    "# If node i is not assigned to district j, then it cannot be its root\n",
    "m.addConstrs( r[i,j] <= x[i,j] for i in G.nodes for j in range(k) ) \n",
    "\n",
    "# if not a root, consume some flow.\n",
    "# if a root, only send out (so much) flow.\n",
    "m.addConstrs( gp.quicksum( f[j,i] - f[i,j] for j in G.neighbors(i) ) \n",
    "             >= 1 - M * gp.quicksum( r[i,j] for j in range(k) ) for i in G.nodes )\n",
    "\n",
    "# do not send flow across cut edges\n",
    "m.addConstrs( f[i,j] + f[j,i] <= M * ( 1 - y[i,j] ) for i,j in G.edges )\n",
    "\n",
    "m.update()"
   ]
  },
  {
   "cell_type": "code",
   "execution_count": 10,
   "metadata": {},
   "outputs": [
    {
     "name": "stdout",
     "output_type": "stream",
     "text": [
      "Gurobi Optimizer version 10.0.3 build v10.0.3rc0 (linux64)\n",
      "\n",
      "CPU model: AMD Ryzen Threadripper 3990X 64-Core Processor, instruction set [SSE2|AVX|AVX2]\n",
      "Thread count: 64 physical cores, 128 logical processors, using up to 32 threads\n",
      "\n",
      "Optimize a model with 1724 rows, 1355 columns and 6985 nonzeros\n",
      "Model fingerprint: 0xa3b26382\n",
      "Variable types: 390 continuous, 965 integer (965 binary)\n",
      "Coefficient statistics:\n",
      "  Matrix range     [1e+00, 8e+05]\n",
      "  Objective range  [1e+00, 1e+00]\n",
      "  Bounds range     [1e+00, 1e+00]\n",
      "  RHS range        [1e+00, 8e+05]\n",
      "Presolve removed 5 rows and 5 columns\n",
      "Presolve time: 0.04s\n",
      "Presolved: 1719 rows, 1350 columns, 6945 nonzeros\n",
      "Variable types: 390 continuous, 960 integer (960 binary)\n",
      "\n",
      "Root relaxation: objective 4.000000e+00, 656 iterations, 0.03 seconds (0.02 work units)\n",
      "\n",
      "    Nodes    |    Current Node    |     Objective Bounds      |     Work\n",
      " Expl Unexpl |  Obj  Depth IntInf | Incumbent    BestBd   Gap | It/Node Time\n",
      "\n",
      "     0     0    4.00000    0  410          -    4.00000      -     -    0s\n",
      "     0     0    5.00000    0  324          -    5.00000      -     -    0s\n",
      "     0     0    5.81868    0  421          -    5.81868      -     -    0s\n",
      "     0     0    8.92896    0  334          -    8.92896      -     -    0s\n",
      "     0     0    9.02506    0  329          -    9.02506      -     -    0s\n",
      "     0     0    9.04318    0  335          -    9.04318      -     -    0s\n",
      "     0     0    9.41688    0  337          -    9.41688      -     -    0s\n",
      "     0     0    9.45263    0  332          -    9.45263      -     -    0s\n",
      "     0     0    9.46277    0  333          -    9.46277      -     -    0s\n",
      "     0     0    9.47494    0  339          -    9.47494      -     -    0s\n",
      "     0     0    9.47839    0  340          -    9.47839      -     -    0s\n",
      "     0     0    9.51998    0  328          -    9.51998      -     -    1s\n",
      "     0     0    9.54635    0  331          -    9.54635      -     -    1s\n",
      "     0     0    9.55102    0  332          -    9.55102      -     -    1s\n",
      "     0     0    9.55260    0  329          -    9.55260      -     -    1s\n",
      "     0     0    9.55263    0  329          -    9.55263      -     -    1s\n",
      "     0     0    9.62494    0  327          -    9.62494      -     -    1s\n",
      "     0     0    9.64368    0  329          -    9.64368      -     -    1s\n",
      "     0     0    9.64431    0  329          -    9.64431      -     -    1s\n",
      "     0     0    9.64668    0  338          -    9.64668      -     -    1s\n",
      "     0     0    9.64752    0  329          -    9.64752      -     -    1s\n",
      "     0     0    9.64809    0  336          -    9.64809      -     -    1s\n",
      "     0     0    9.64809    0  336          -    9.64809      -     -    1s\n",
      "     0     0    9.66045    0  317          -    9.66045      -     -    2s\n",
      "     0     0    9.66045    0  336          -    9.66045      -     -    2s\n",
      "     0     0    9.66045    0  326          -    9.66045      -     -    2s\n",
      "     0     0    9.66045    0  331          -    9.66045      -     -    2s\n",
      "     0     0    9.66045    0  328          -    9.66045      -     -    2s\n",
      "     0     0    9.66045    0  328          -    9.66045      -     -    2s\n",
      "     0     0    9.66045    0  329          -    9.66045      -     -    2s\n",
      "     0     0    9.66045    0  328          -    9.66045      -     -    2s\n",
      "     0     0    9.88354    0  329          -    9.88354      -     -    2s\n",
      "     0     0    9.88354    0  325          -    9.88354      -     -    2s\n",
      "     0     2    9.88354    0  325          -    9.88354      -     -    2s\n",
      "  8059  7140   54.03594   70  336          -   23.23703      -  87.9    5s\n",
      " 18672 12854   49.12011   54   63          -   23.23703      -  84.3   10s\n",
      "*19793  7503              51      45.0000000   23.67983  47.4%  84.0   10s\n",
      "H20353  5370                      42.0000000   23.67983  43.6%  83.5   10s\n",
      " 29117  7338   33.19681   27  368   42.00000   28.34651  32.5%  85.5   15s\n",
      "*47212 13535              46      41.0000000   30.18246  26.4%  85.6   19s\n",
      "H47835 12519                      40.0000000   30.24487  24.4%  85.6   19s\n",
      " 49240 12762   36.16673   24  273   40.00000   30.30118  24.2%  85.4   20s\n",
      " 58395 14770   36.82057   32  241   40.00000   31.00604  22.5%  85.5   33s\n",
      " 66121 15534   38.67480   37  232   40.00000   31.58672  21.0%  87.4   35s\n",
      "H66324 13535                      39.0000000   31.60817  19.0%  87.5   35s\n",
      " 73393 13273   36.82593   32  154   39.00000   32.21029  17.4%  89.5   40s\n",
      " 88720 11538   37.88958   32  247   39.00000   33.62522  13.8%  92.5   45s\n",
      " 107320  6387     cutoff   34        39.00000   35.53279  8.89%  92.9   50s\n",
      "\n",
      "Cutting planes:\n",
      "  Gomory: 6\n",
      "  Cover: 5\n",
      "  MIR: 1\n",
      "  Flow cover: 16\n",
      "  RLT: 124\n",
      "\n",
      "Explored 120779 nodes (10793590 simplex iterations) in 52.11 seconds (65.34 work units)\n",
      "Thread count was 32 (of 128 available processors)\n",
      "\n",
      "Solution count 6: 39 39 40 ... 45\n",
      "\n",
      "Optimal solution found (tolerance 1.00e-04)\n",
      "Best objective 3.900000000000e+01, best bound 3.900000000000e+01, gap 0.0000%\n"
     ]
    }
   ],
   "source": [
    "# solve IP model\n",
    "m.optimize()"
   ]
  },
  {
   "cell_type": "code",
   "execution_count": 11,
   "metadata": {},
   "outputs": [
    {
     "name": "stdout",
     "output_type": "stream",
     "text": [
      "The number of cut edges is 39.0\n",
      "District 0 has population 797378 and contains counties ['Washita', 'Jackson', 'Major', 'Custer', 'Ellis', 'Comanche', 'Cleveland', 'Beckham', 'Tillman', 'Beaver', 'Dewey', 'Roger Mills', 'Texas', 'Woodward', 'Cimarron', 'Canadian', 'Harper', 'Caddo', 'Greer', 'Woods', 'Harmon', 'Blaine', 'Kiowa']\n",
      "\n",
      "District 1 has population 796292 and contains counties ['Oklahoma']\n",
      "\n",
      "District 2 has population 790988 and contains counties ['Johnston', 'Pushmataha', 'Garvin', 'Pittsburg', 'Jefferson', 'Okfuskee', 'McClain', 'Le Flore', 'Choctaw', 'Bryan', 'Latimer', 'Stephens', 'McIntosh', 'Murray', 'Haskell', 'Grady', 'Sequoyah', 'Marshall', 'Hughes', 'Muskogee', 'Coal', 'Carter', 'Cotton', 'McCurtain', 'Atoka', 'Seminole', 'Pontotoc', 'Pottawatomie', 'Love']\n",
      "\n",
      "District 3 has population 786966 and contains counties ['Wagoner', 'Tulsa', 'Okmulgee']\n",
      "\n",
      "District 4 has population 787729 and contains counties ['Delaware', 'Craig', 'Cherokee', 'Osage', 'Logan', 'Pawnee', 'Kingfisher', 'Grant', 'Nowata', 'Payne', 'Garfield', 'Adair', 'Alfalfa', 'Lincoln', 'Ottawa', 'Rogers', 'Mayes', 'Washington', 'Kay', 'Creek', 'Noble']\n",
      "\n"
     ]
    }
   ],
   "source": [
    "print(\"The number of cut edges is\",m.objval)\n",
    "\n",
    "# retrieve the districts and their populations\n",
    "districts = [ [i for i in G.nodes if x[i,j].x > 0.5] for j in range(k)]\n",
    "district_counties = [ [ G.nodes[i][\"NAME20\"] for i in districts[j] ] for j in range(k)]\n",
    "district_populations = [ sum(G.nodes[i][\"TOTPOP\"] for i in districts[j]) for j in range(k) ]\n",
    "\n",
    "# print district info\n",
    "for j in range(k):\n",
    "    print(\"District\",j,\"has population\",district_populations[j],\"and contains counties\",district_counties[j])\n",
    "    print(\"\")"
   ]
  },
  {
   "cell_type": "code",
   "execution_count": 12,
   "metadata": {},
   "outputs": [
    {
     "name": "stdout",
     "output_type": "stream",
     "text": [
      "Discarded solution information\n",
      "Gurobi Optimizer version 10.0.3 build v10.0.3rc0 (linux64)\n",
      "\n",
      "CPU model: AMD Ryzen Threadripper 3990X 64-Core Processor, instruction set [SSE2|AVX|AVX2]\n",
      "Thread count: 64 physical cores, 128 logical processors, using up to 32 threads\n",
      "\n",
      "Optimize a model with 1724 rows, 1355 columns and 6985 nonzeros\n",
      "Model fingerprint: 0xa68f3122\n",
      "Variable types: 390 continuous, 965 integer (965 binary)\n",
      "Coefficient statistics:\n",
      "  Matrix range     [1e+00, 8e+05]\n",
      "  Objective range  [1e+00, 1e+00]\n",
      "  Bounds range     [1e+00, 1e+00]\n",
      "  RHS range        [1e+00, 8e+05]\n",
      "Presolve removed 521 rows and 353 columns\n",
      "Presolve time: 0.02s\n",
      "Presolved: 1203 rows, 1002 columns, 4943 nonzeros\n",
      "Variable types: 380 continuous, 622 integer (622 binary)\n",
      "\n",
      "Root relaxation: objective 1.632442e+01, 1017 iterations, 0.04 seconds (0.04 work units)\n",
      "\n",
      "    Nodes    |    Current Node    |     Objective Bounds      |     Work\n",
      " Expl Unexpl |  Obj  Depth IntInf | Incumbent    BestBd   Gap | It/Node Time\n",
      "\n",
      "     0     0   16.32442    0  315          -   16.32442      -     -    0s\n",
      "     0     0   17.01235    0  260          -   17.01235      -     -    0s\n",
      "     0     0   17.14504    0  282          -   17.14504      -     -    0s\n",
      "     0     0   17.14767    0  263          -   17.14767      -     -    0s\n",
      "     0     0   17.15135    0  263          -   17.15135      -     -    0s\n",
      "     0     0   17.15706    0  264          -   17.15706      -     -    0s\n",
      "     0     0   17.15942    0  264          -   17.15942      -     -    0s\n",
      "     0     0   17.70387    0  380          -   17.70387      -     -    0s\n"
     ]
    },
    {
     "name": "stdout",
     "output_type": "stream",
     "text": [
      "     0     0   17.82188    0  410          -   17.82188      -     -    0s\n",
      "     0     0   17.83111    0  404          -   17.83111      -     -    0s\n",
      "     0     0   17.83154    0  407          -   17.83154      -     -    0s\n",
      "     0     0   18.09488    0  404          -   18.09488      -     -    1s\n",
      "     0     0   18.14450    0  406          -   18.14450      -     -    1s\n",
      "     0     0   18.14553    0  396          -   18.14553      -     -    1s\n",
      "     0     0   18.24692    0  418          -   18.24692      -     -    1s\n",
      "     0     0   18.26396    0  414          -   18.26396      -     -    1s\n",
      "     0     0   18.26469    0  412          -   18.26469      -     -    1s\n",
      "     0     0   18.27852    0  418          -   18.27852      -     -    1s\n",
      "     0     0   18.27927    0  421          -   18.27927      -     -    1s\n",
      "     0     0   18.28440    0  417          -   18.28440      -     -    1s\n",
      "     0     0   18.28440    0  415          -   18.28440      -     -    1s\n",
      "     0     2   18.28980    0  415          -   18.28980      -     -    1s\n",
      "  6008  5342   25.95207   16  291          -   25.95207      -   0.6    5s\n",
      "H10254  7124                      52.0000000   26.98992  48.1%  34.5    8s\n",
      "H10300  6573                      49.0000000   26.98992  44.9%  34.5    9s\n",
      "H10302  6182                      48.0000000   26.98992  43.8%  34.5    9s\n",
      "H10306  5236                      44.0000000   26.98992  38.7%  34.6    9s\n",
      " 11333  5454   28.25005   24  279   44.00000   27.38546  37.8%  37.4   10s\n",
      "H11345  4804                      42.0000000   27.38546  34.8%  37.5   10s\n",
      "H11359  4354                      41.0000000   27.38546  33.2%  37.5   10s\n",
      "H19099  5152                      40.0000000   31.15651  22.1%  50.1   12s\n",
      "*24871  6124              39      39.0000000   32.05197  17.8%  54.5   13s\n",
      " 32116  7248   35.47713   35  115   39.00000   32.87472  15.7%  57.3   15s\n",
      " 64814  7936   37.61276   29  178   39.00000   35.08920  10.0%  58.2   20s\n",
      "\n",
      "Explored 94451 nodes (5634111 simplex iterations) in 22.89 seconds (27.35 work units)\n",
      "Thread count was 32 (of 128 available processors)\n",
      "\n",
      "Solution count 9: 39 39 40 ... 52\n",
      "\n",
      "Optimal solution found (tolerance 1.00e-04)\n",
      "Best objective 3.900000000000e+01, best bound 3.900000000000e+01, gap 0.0000%\n"
     ]
    }
   ],
   "source": [
    "# To solve the MIP faster, let's fix some district roots:\n",
    "\n",
    "r[6,0].LB = 1  # Fix Oklahoma County as root of district 0\n",
    "r[34,1].LB = 1 # Fix Tulsa County as root of district 1\n",
    "r[8,2].LB = 1  # Fix Comanche County as root of district 2\n",
    "\n",
    "m.reset()      # Force Gurobi to start solving 'from scratch'\n",
    "m.optimize()"
   ]
  },
  {
   "cell_type": "code",
   "execution_count": 13,
   "metadata": {},
   "outputs": [
    {
     "name": "stdout",
     "output_type": "stream",
     "text": [
      "The number of cut edges is 39.0\n",
      "District 0 has population 796292 and contains counties ['Oklahoma']\n",
      "\n",
      "District 1 has population 786966 and contains counties ['Wagoner', 'Tulsa', 'Okmulgee']\n",
      "\n",
      "District 2 has population 797378 and contains counties ['Washita', 'Jackson', 'Major', 'Custer', 'Ellis', 'Comanche', 'Cleveland', 'Beckham', 'Tillman', 'Beaver', 'Dewey', 'Roger Mills', 'Texas', 'Woodward', 'Cimarron', 'Canadian', 'Harper', 'Caddo', 'Greer', 'Woods', 'Harmon', 'Blaine', 'Kiowa']\n",
      "\n",
      "District 3 has population 790988 and contains counties ['Johnston', 'Pushmataha', 'Garvin', 'Pittsburg', 'Jefferson', 'Okfuskee', 'McClain', 'Le Flore', 'Choctaw', 'Bryan', 'Latimer', 'Stephens', 'McIntosh', 'Murray', 'Haskell', 'Grady', 'Sequoyah', 'Marshall', 'Hughes', 'Muskogee', 'Coal', 'Carter', 'Cotton', 'McCurtain', 'Atoka', 'Seminole', 'Pontotoc', 'Pottawatomie', 'Love']\n",
      "\n",
      "District 4 has population 787729 and contains counties ['Delaware', 'Craig', 'Cherokee', 'Osage', 'Logan', 'Pawnee', 'Kingfisher', 'Grant', 'Nowata', 'Payne', 'Garfield', 'Adair', 'Alfalfa', 'Lincoln', 'Ottawa', 'Rogers', 'Mayes', 'Washington', 'Kay', 'Creek', 'Noble']\n",
      "\n"
     ]
    }
   ],
   "source": [
    "print(\"The number of cut edges is\",m.objval)\n",
    "\n",
    "# retrieve the districts and their populations\n",
    "districts = [ [i for i in G.nodes if x[i,j].x > 0.5] for j in range(k)]\n",
    "district_counties = [ [ G.nodes[i][\"NAME20\"] for i in districts[j] ] for j in range(k)]\n",
    "district_populations = [ sum(G.nodes[i][\"TOTPOP\"] for i in districts[j]) for j in range(k) ]\n",
    "\n",
    "# print district info\n",
    "for j in range(k):\n",
    "    print(\"District\",j,\"has population\",district_populations[j],\"and contains counties\",district_counties[j])\n",
    "    print(\"\")"
   ]
  },
  {
   "cell_type": "code",
   "execution_count": 14,
   "metadata": {},
   "outputs": [],
   "source": [
    "# Let's draw it on a map\n",
    "import geopandas as gpd"
   ]
  },
  {
   "cell_type": "code",
   "execution_count": 15,
   "metadata": {},
   "outputs": [],
   "source": [
    "# Read Oklahoma county shapefile from \"OK_county.shp\"\n",
    "filepath = 'districting-data/'\n",
    "filename = 'OK_county.shp'\n",
    "\n",
    "# Read geopandas dataframe from file\n",
    "df = gpd.read_file( filepath + filename )"
   ]
  },
  {
   "cell_type": "code",
   "execution_count": 16,
   "metadata": {},
   "outputs": [
    {
     "data": {
      "image/png": "[encoded data removed]",
      "text/plain": [
       "<Figure size 640x480 with 1 Axes>"
      ]
     },
     "metadata": {},
     "output_type": "display_data"
    }
   ],
   "source": [
    "# Which district is each county assigned to?\n",
    "assignment = [ -1 for i in G.nodes ]\n",
    "\n",
    "labeling = { i : j for i in G.nodes for j in range(k) if x[i,j].x > 0.5 }\n",
    "\n",
    "# Now add the assignments to a column of the dataframe and map it\n",
    "node_with_this_geoid = { G.nodes[i]['GEOID20'] : i for i in G.nodes }\n",
    "\n",
    "# pick a position u in the dataframe\n",
    "for u in range(G.number_of_nodes()):\n",
    "    \n",
    "    geoid = df['GEOID20'][u]\n",
    "    \n",
    "    # what node in G has this geoid?\n",
    "    i = node_with_this_geoid[geoid]\n",
    "    \n",
    "    # position u in the dataframe should be given\n",
    "    # the same district # that county i has in 'labeling'\n",
    "    assignment[u] = labeling[i]\n",
    "    \n",
    "# now add the assignments to a column of our dataframe and then map it\n",
    "df['assignment'] = assignment\n",
    "\n",
    "my_fig = df.plot(column='assignment').get_figure()"
   ]
  },
  {
   "cell_type": "code",
   "execution_count": null,
   "metadata": {},
   "outputs": [],
   "source": []
  }
 ],
 "metadata": {
  "kernelspec": {
   "display_name": "Python 3",
   "language": "python",
   "name": "python3"
  },
  "language_info": {
   "codemirror_mode": {
    "name": "ipython",
    "version": 3
   },
   "file_extension": ".py",
   "mimetype": "text/x-python",
   "name": "python",
   "nbconvert_exporter": "python",
   "pygments_lexer": "ipython3",
   "version": "3.11.6"
  }
 },
 "nbformat": 4,
 "nbformat_minor": 4
}
