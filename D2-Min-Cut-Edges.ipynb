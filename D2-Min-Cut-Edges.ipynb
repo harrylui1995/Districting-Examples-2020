{
 "cells": [
  {
   "cell_type": "code",
   "execution_count": 1,
   "metadata": {},
   "outputs": [],
   "source": [
    "import json\n",
    "from networkx.readwrite import json_graph\n",
    "\n",
    "def read_graph_from_json(json_file):\n",
    "    with open(json_file) as f:\n",
    "        data = json.load(f)\n",
    "    return json_graph.adjacency_graph(data) "
   ]
  },
  {
   "cell_type": "code",
   "execution_count": 2,
   "metadata": {},
   "outputs": [],
   "source": [
    "# Read Oklahoma county graph from the json file \"OK_county.json\"\n",
    "filepath = 'districting-data/'\n",
    "filename = 'OK_county.json'\n",
    "\n",
    "G = read_graph_from_json( filepath + filename )"
   ]
  },
  {
   "cell_type": "code",
   "execution_count": 3,
   "metadata": {},
   "outputs": [
    {
     "name": "stdout",
     "output_type": "stream",
     "text": [
      "Node 0 represents Washita County, which had a population of 10924 in the 2020 census.\n",
      "Node 1 represents Jackson County, which had a population of 24785 in the 2020 census.\n",
      "Node 2 represents Major County, which had a population of 7782 in the 2020 census.\n",
      "Node 3 represents Delaware County, which had a population of 40397 in the 2020 census.\n",
      "Node 4 represents Custer County, which had a population of 28513 in the 2020 census.\n",
      "Node 5 represents Ellis County, which had a population of 3749 in the 2020 census.\n",
      "Node 6 represents Oklahoma County, which had a population of 796292 in the 2020 census.\n",
      "Node 7 represents Johnston County, which had a population of 10272 in the 2020 census.\n",
      "Node 8 represents Comanche County, which had a population of 121125 in the 2020 census.\n",
      "Node 9 represents Pushmataha County, which had a population of 10812 in the 2020 census.\n",
      "Node 10 represents Cleveland County, which had a population of 295528 in the 2020 census.\n",
      "Node 11 represents Wagoner County, which had a population of 80981 in the 2020 census.\n",
      "Node 12 represents Beckham County, which had a population of 22410 in the 2020 census.\n",
      "Node 13 represents Garvin County, which had a population of 25656 in the 2020 census.\n",
      "Node 14 represents Craig County, which had a population of 14107 in the 2020 census.\n",
      "Node 15 represents Cherokee County, which had a population of 47078 in the 2020 census.\n",
      "Node 16 represents Osage County, which had a population of 45818 in the 2020 census.\n",
      "Node 17 represents Tillman County, which had a population of 6968 in the 2020 census.\n",
      "Node 18 represents Logan County, which had a population of 49555 in the 2020 census.\n",
      "Node 19 represents Pittsburg County, which had a population of 43773 in the 2020 census.\n",
      "Node 20 represents Jefferson County, which had a population of 5337 in the 2020 census.\n",
      "Node 21 represents Pawnee County, which had a population of 15553 in the 2020 census.\n",
      "Node 22 represents Okfuskee County, which had a population of 11310 in the 2020 census.\n",
      "Node 23 represents McClain County, which had a population of 41662 in the 2020 census.\n",
      "Node 24 represents Le Flore County, which had a population of 48129 in the 2020 census.\n",
      "Node 25 represents Beaver County, which had a population of 5049 in the 2020 census.\n",
      "Node 26 represents Dewey County, which had a population of 4484 in the 2020 census.\n",
      "Node 27 represents Choctaw County, which had a population of 14204 in the 2020 census.\n",
      "Node 28 represents Roger Mills County, which had a population of 3442 in the 2020 census.\n",
      "Node 29 represents Bryan County, which had a population of 46067 in the 2020 census.\n",
      "Node 30 represents Latimer County, which had a population of 9444 in the 2020 census.\n",
      "Node 31 represents Texas County, which had a population of 21384 in the 2020 census.\n",
      "Node 32 represents Woodward County, which had a population of 20470 in the 2020 census.\n",
      "Node 33 represents Stephens County, which had a population of 42848 in the 2020 census.\n",
      "Node 34 represents Tulsa County, which had a population of 669279 in the 2020 census.\n",
      "Node 35 represents McIntosh County, which had a population of 18941 in the 2020 census.\n",
      "Node 36 represents Kingfisher County, which had a population of 15184 in the 2020 census.\n",
      "Node 37 represents Grant County, which had a population of 4169 in the 2020 census.\n",
      "Node 38 represents Murray County, which had a population of 13904 in the 2020 census.\n",
      "Node 39 represents Nowata County, which had a population of 9320 in the 2020 census.\n",
      "Node 40 represents Haskell County, which had a population of 11561 in the 2020 census.\n",
      "Node 41 represents Grady County, which had a population of 54795 in the 2020 census.\n",
      "Node 42 represents Payne County, which had a population of 81646 in the 2020 census.\n",
      "Node 43 represents Cimarron County, which had a population of 2296 in the 2020 census.\n",
      "Node 44 represents Garfield County, which had a population of 62846 in the 2020 census.\n",
      "Node 45 represents Adair County, which had a population of 19495 in the 2020 census.\n",
      "Node 46 represents Sequoyah County, which had a population of 39281 in the 2020 census.\n",
      "Node 47 represents Canadian County, which had a population of 154405 in the 2020 census.\n",
      "Node 48 represents Marshall County, which had a population of 15312 in the 2020 census.\n",
      "Node 49 represents Harper County, which had a population of 3272 in the 2020 census.\n",
      "Node 50 represents Alfalfa County, which had a population of 5699 in the 2020 census.\n",
      "Node 51 represents Lincoln County, which had a population of 33458 in the 2020 census.\n",
      "Node 52 represents Hughes County, which had a population of 13367 in the 2020 census.\n",
      "Node 53 represents Muskogee County, which had a population of 66339 in the 2020 census.\n",
      "Node 54 represents Ottawa County, which had a population of 30285 in the 2020 census.\n",
      "Node 55 represents Rogers County, which had a population of 95240 in the 2020 census.\n",
      "Node 56 represents Caddo County, which had a population of 26945 in the 2020 census.\n",
      "Node 57 represents Mayes County, which had a population of 39046 in the 2020 census.\n",
      "Node 58 represents Coal County, which had a population of 5266 in the 2020 census.\n",
      "Node 59 represents Carter County, which had a population of 48003 in the 2020 census.\n",
      "Node 60 represents Greer County, which had a population of 5491 in the 2020 census.\n",
      "Node 61 represents Cotton County, which had a population of 5527 in the 2020 census.\n",
      "Node 62 represents McCurtain County, which had a population of 30814 in the 2020 census.\n",
      "Node 63 represents Atoka County, which had a population of 14143 in the 2020 census.\n",
      "Node 64 represents Okmulgee County, which had a population of 36706 in the 2020 census.\n",
      "Node 65 represents Washington County, which had a population of 52455 in the 2020 census.\n",
      "Node 66 represents Seminole County, which had a population of 23556 in the 2020 census.\n",
      "Node 67 represents Woods County, which had a population of 8624 in the 2020 census.\n",
      "Node 68 represents Harmon County, which had a population of 2488 in the 2020 census.\n",
      "Node 69 represents Kay County, which had a population of 43700 in the 2020 census.\n",
      "Node 70 represents Blaine County, which had a population of 8735 in the 2020 census.\n",
      "Node 71 represents Pontotoc County, which had a population of 38065 in the 2020 census.\n",
      "Node 72 represents Creek County, which had a population of 71754 in the 2020 census.\n",
      "Node 73 represents Pottawatomie County, which had a population of 72454 in the 2020 census.\n",
      "Node 74 represents Kiowa County, which had a population of 8509 in the 2020 census.\n",
      "Node 75 represents Love County, which had a population of 10146 in the 2020 census.\n",
      "Node 76 represents Noble County, which had a population of 10924 in the 2020 census.\n"
     ]
    }
   ],
   "source": [
    "# For each node, print the node #, county name, and its population\n",
    "for node in G.nodes:\n",
    "    county_name = G.nodes[node]['NAME20']\n",
    "    county_population = G.nodes[node]['P0010001']\n",
    "    G.nodes[node]['TOTPOP'] = county_population\n",
    "    print(\"Node\",node,\"represents\",county_name,\"County, which had a population of\",county_population,\"in the 2020 census.\")"
   ]
  },
  {
   "cell_type": "code",
   "execution_count": 4,
   "metadata": {},
   "outputs": [
    {
     "name": "stdout",
     "output_type": "stream",
     "text": [
      "Using L = 783952 and U = 799789 and k = 5\n"
     ]
    }
   ],
   "source": [
    "# Let's impose a 2% population deviation (+/-1%)\n",
    "# (Usually, we use 1% deviation, but this instance is infeasible at 1%.)\n",
    "deviation = 0.02\n",
    "\n",
    "k = 5  # desired number of districts\n",
    "total_population = sum( G.nodes[i]['TOTPOP'] for i in G.nodes )\n",
    "ideal_population = total_population / k\n",
    "\n",
    "import math\n",
    "L = math.ceil( ( 1 - deviation / 2 ) * ideal_population )\n",
    "U = math.floor( ( 1 + deviation / 2 ) * ideal_population )\n",
    "print(\"Using L =\",L,\"and U =\",U,\"and k =\",k)"
   ]
  },
  {
   "cell_type": "code",
   "execution_count": 5,
   "metadata": {},
   "outputs": [
    {
     "name": "stdout",
     "output_type": "stream",
     "text": [
      "Set parameter Username\n",
      "Academic license - for non-commercial use only - expires 2024-09-03\n"
     ]
    }
   ],
   "source": [
    "import gurobipy as gp\n",
    "from gurobipy import GRB\n",
    "\n",
    "# create model \n",
    "m = gp.Model()\n",
    "\n",
    "# create variables\n",
    "x = m.addVars( G.nodes, k, vtype=GRB.BINARY ) # x[i,j] = 1 if county i is assigned to district j\n",
    "y = m.addVars( G.edges, vtype=GRB.BINARY )    # y[u,v] = 1 when edge {u,v} is cut"
   ]
  },
  {
   "cell_type": "code",
   "execution_count": 6,
   "metadata": {},
   "outputs": [],
   "source": [
    "# objective is to minimize cut edges\n",
    "m.setObjective( gp.quicksum( y[u,v] for u,v in G.edges ), GRB.MINIMIZE )\n",
    "\n",
    "## Equivalently, we could write:\n",
    "#m.setObjective( gp.quicksum( y ), GRB.MINIMIZE )"
   ]
  },
  {
   "cell_type": "code",
   "execution_count": 7,
   "metadata": {},
   "outputs": [],
   "source": [
    "# add constraints saying that each county i is assigned to one district\n",
    "m.addConstrs( gp.quicksum( x[i,j] for j in range(k) ) == 1 for i in G.nodes )\n",
    "\n",
    "# add constraints saying that each district has a population at least L and at most U.\n",
    "m.addConstrs( gp.quicksum( G.nodes[i]['TOTPOP'] * x[i,j] for i in G.nodes ) >= L for j in range(k) )\n",
    "m.addConstrs( gp.quicksum( G.nodes[i]['TOTPOP'] * x[i,j] for i in G.nodes ) <= U for j in range(k) )\n",
    "\n",
    "# add constraints saying that edge {u,v} is cut if u is assigned to district j but v is not.\n",
    "m.addConstrs( x[u,j] - x[v,j] <= y[u,v] for u,v in G.edges for j in range(k) )\n",
    "\n",
    "m.update()"
   ]
  },
  {
   "cell_type": "code",
   "execution_count": 8,
   "metadata": {},
   "outputs": [
    {
     "name": "stdout",
     "output_type": "stream",
     "text": [
      "Gurobi Optimizer version 10.0.3 build v10.0.3rc0 (linux64)\n",
      "\n",
      "CPU model: AMD Ryzen Threadripper 3990X 64-Core Processor, instruction set [SSE2|AVX|AVX2]\n",
      "Thread count: 64 physical cores, 128 logical processors, using up to 32 threads\n",
      "\n",
      "Optimize a model with 1062 rows, 580 columns and 4080 nonzeros\n",
      "Model fingerprint: 0xef531b25\n",
      "Variable types: 0 continuous, 580 integer (580 binary)\n",
      "Coefficient statistics:\n",
      "  Matrix range     [1e+00, 8e+05]\n",
      "  Objective range  [1e+00, 1e+00]\n",
      "  Bounds range     [1e+00, 1e+00]\n",
      "  RHS range        [1e+00, 8e+05]\n",
      "Presolve time: 0.01s\n",
      "Presolved: 1062 rows, 580 columns, 4080 nonzeros\n",
      "Variable types: 0 continuous, 580 integer (580 binary)\n",
      "Found heuristic solution: objective 117.0000000\n",
      "\n",
      "Root relaxation: objective 0.000000e+00, 649 iterations, 0.04 seconds (0.02 work units)\n",
      "\n",
      "    Nodes    |    Current Node    |     Objective Bounds      |     Work\n",
      " Expl Unexpl |  Obj  Depth IntInf | Incumbent    BestBd   Gap | It/Node Time\n",
      "\n",
      "     0     0    0.00000    0  385  117.00000    0.00000   100%     -    0s\n",
      "H    0     0                     110.0000000    0.00000   100%     -    0s\n",
      "H    0     0                     108.0000000    0.00000   100%     -    0s\n",
      "     0     0    5.72285    0  389  108.00000    5.72285  94.7%     -    0s\n",
      "H    0     0                      99.0000000    5.72285  94.2%     -    0s\n",
      "H    0     0                      97.0000000    5.72285  94.1%     -    0s\n",
      "     0     0    9.03761    0  311   97.00000    9.03761  90.7%     -    0s\n",
      "     0     0    9.27704    0  310   97.00000    9.27704  90.4%     -    0s\n",
      "     0     0    9.28077    0  312   97.00000    9.28077  90.4%     -    0s\n",
      "     0     0    9.40335    0  313   97.00000    9.40335  90.3%     -    0s\n",
      "     0     0    9.40335    0  313   97.00000    9.40335  90.3%     -    0s\n",
      "H    0     0                      85.0000000    9.40335  88.9%     -    0s\n",
      "     0     0    9.40335    0  300   85.00000    9.40335  88.9%     -    0s\n",
      "     0     0    9.53511    0  320   85.00000    9.53511  88.8%     -    1s\n",
      "     0     0    9.59581    0  317   85.00000    9.59581  88.7%     -    1s\n",
      "     0     0    9.60895    0  315   85.00000    9.60895  88.7%     -    1s\n",
      "     0     0    9.61019    0  323   85.00000    9.61019  88.7%     -    1s\n",
      "     0     0   12.53503    0  317   85.00000   12.53503  85.3%     -    1s\n",
      "     0     0   12.53503    0  317   85.00000   12.53503  85.3%     -    1s\n",
      "H    0     2                      83.0000000   12.53503  84.9%     -    1s\n",
      "     0     2   12.53503    0  317   83.00000   12.53503  84.9%     -    1s\n",
      "H   24    28                      71.0000000   16.35731  77.0%   376    1s\n",
      "H   29    56                      70.0000000   17.23737  75.4%   392    1s\n",
      "H   31    56                      66.0000000   17.23737  73.9%   375    1s\n",
      "H   35    56                      60.0000000   17.23737  71.3%   346    1s\n",
      "H   89   118                      59.0000000   17.39880  70.5%   311    1s\n",
      "H   96   118                      56.0000000   17.39880  68.9%   304    1s\n",
      "H  153   180                      51.0000000   17.39880  65.9%   262    2s\n",
      "H  161   180                      50.0000000   17.39880  65.2%   258    2s\n",
      "H  167   180                      49.0000000   17.39880  64.5%   254    2s\n",
      "H  524   497                      47.0000000   17.39880  63.0%   148    3s\n",
      "H  552   496                      46.0000000   18.79950  59.1%   144    3s\n",
      "H  562   496                      41.0000000   18.79950  54.1%   142    3s\n",
      "  2922  1825   29.75477   16  313   41.00000   20.11958  50.9%  91.4    5s\n",
      "H 3203  1932                      39.0000000   20.11958  48.4%   101    8s\n",
      "  4282  2169   37.05177   32  205   39.00000   20.11958  48.4%   103   10s\n",
      "H16779  4349                      37.0000000   29.32636  20.7%  89.4   14s\n",
      " 17469  4517   34.27023   27  293   37.00000   29.47402  20.3%  89.0   15s\n",
      " 47466  1851   35.08111   31  257   37.00000   34.22378  7.50%  75.6   20s\n",
      "\n",
      "Cutting planes:\n",
      "  Gomory: 20\n",
      "  Cover: 5\n",
      "  RLT: 12\n",
      "\n",
      "Explored 52142 nodes (3799360 simplex iterations) in 20.35 seconds (23.68 work units)\n",
      "Thread count was 32 (of 128 available processors)\n",
      "\n",
      "Solution count 10: 37 39 41 ... 59\n",
      "\n",
      "Optimal solution found (tolerance 1.00e-04)\n",
      "Best objective 3.700000000000e+01, best bound 3.700000000000e+01, gap 0.0000%\n"
     ]
    }
   ],
   "source": [
    "# solve IP model\n",
    "m.optimize()"
   ]
  },
  {
   "cell_type": "code",
   "execution_count": 9,
   "metadata": {},
   "outputs": [
    {
     "name": "stdout",
     "output_type": "stream",
     "text": [
      "The number of cut edges is 37.0\n",
      "District 0 has these nodes = [0, 1, 2, 4, 5, 8, 12, 16, 17, 18, 21, 25, 26, 28, 31, 32, 36, 37, 42, 43, 44, 49, 50, 51, 56, 60, 67, 68, 69, 70, 72, 74, 76] and this population = 787751\n",
      "The corresponding county names are = ['Washita', 'Jackson', 'Major', 'Custer', 'Ellis', 'Comanche', 'Beckham', 'Osage', 'Tillman', 'Logan', 'Pawnee', 'Beaver', 'Dewey', 'Roger Mills', 'Texas', 'Woodward', 'Kingfisher', 'Grant', 'Payne', 'Cimarron', 'Garfield', 'Harper', 'Alfalfa', 'Lincoln', 'Caddo', 'Greer', 'Woods', 'Harmon', 'Kay', 'Blaine', 'Creek', 'Kiowa', 'Noble']\n",
      "\n",
      "District 1 has these nodes = [6] and this population = 796292\n",
      "The corresponding county names are = ['Oklahoma']\n",
      "\n",
      "District 2 has these nodes = [7, 9, 13, 19, 20, 22, 23, 24, 27, 29, 30, 33, 35, 38, 40, 41, 46, 48, 52, 53, 58, 59, 61, 62, 63, 66, 71, 73, 75] and this population = 790988\n",
      "The corresponding county names are = ['Johnston', 'Pushmataha', 'Garvin', 'Pittsburg', 'Jefferson', 'Okfuskee', 'McClain', 'Le Flore', 'Choctaw', 'Bryan', 'Latimer', 'Stephens', 'McIntosh', 'Murray', 'Haskell', 'Grady', 'Sequoyah', 'Marshall', 'Hughes', 'Muskogee', 'Coal', 'Carter', 'Cotton', 'McCurtain', 'Atoka', 'Seminole', 'Pontotoc', 'Pottawatomie', 'Love']\n",
      "\n",
      "District 3 has these nodes = [11, 34, 64] and this population = 786966\n",
      "The corresponding county names are = ['Wagoner', 'Tulsa', 'Okmulgee']\n",
      "\n",
      "District 4 has these nodes = [3, 10, 14, 15, 39, 45, 47, 54, 55, 57, 65] and this population = 797356\n",
      "The corresponding county names are = ['Delaware', 'Cleveland', 'Craig', 'Cherokee', 'Nowata', 'Adair', 'Canadian', 'Ottawa', 'Rogers', 'Mayes', 'Washington']\n",
      "\n"
     ]
    }
   ],
   "source": [
    "print(\"The number of cut edges is\",m.objval)\n",
    "\n",
    "# retrieve the districts and their populations\n",
    "districts = [ [ i for i in G.nodes if x[i,j].x > 0.5 ] for j in range(k) ]\n",
    "district_county_names = [ [ G.nodes[i]['NAME20'] for i in district ] for district in districts ]\n",
    "district_populations = [ sum( G.nodes[i]['TOTPOP'] for i in district ) for district in districts ]\n",
    "\n",
    "# print district info\n",
    "for j in range(k):\n",
    "    print(\"District\",j,\"has these nodes =\",districts[j],\"and this population =\",district_populations[j] )\n",
    "    print(\"The corresponding county names are =\",district_county_names[j] )\n",
    "    print(\"\")"
   ]
  },
  {
   "cell_type": "code",
   "execution_count": 10,
   "metadata": {},
   "outputs": [
    {
     "name": "stdout",
     "output_type": "stream",
     "text": [
      "Is district = [0, 1, 2, 4, 5, 8, 12, 16, 17, 18, 21, 25, 26, 28, 31, 32, 36, 37, 42, 43, 44, 49, 50, 51, 56, 60, 67, 68, 69, 70, 72, 74, 76] connected? True\n",
      "Is district = [6] connected? True\n",
      "Is district = [7, 9, 13, 19, 20, 22, 23, 24, 27, 29, 30, 33, 35, 38, 40, 41, 46, 48, 52, 53, 58, 59, 61, 62, 63, 66, 71, 73, 75] connected? True\n",
      "Is district = [11, 34, 64] connected? True\n",
      "Is district = [3, 10, 14, 15, 39, 45, 47, 54, 55, 57, 65] connected? False\n"
     ]
    }
   ],
   "source": [
    "import networkx as nx\n",
    "for district in districts:\n",
    "    print(\"Is district =\", district, \"connected?\", nx.is_connected( G.subgraph( district ) ) )"
   ]
  },
  {
   "cell_type": "code",
   "execution_count": 11,
   "metadata": {},
   "outputs": [],
   "source": [
    "# Let's draw it on a map\n",
    "import geopandas as gpd"
   ]
  },
  {
   "cell_type": "code",
   "execution_count": 12,
   "metadata": {},
   "outputs": [],
   "source": [
    "# Read Oklahoma county shapefile from \"OK_county.shp\"\n",
    "filepath = 'districting-data/'\n",
    "filename = 'OK_county.shp'\n",
    "\n",
    "# Read geopandas dataframe from file\n",
    "df = gpd.read_file( filepath + filename )"
   ]
  },
  {
   "cell_type": "code",
   "execution_count": 13,
   "metadata": {},
   "outputs": [
    {
     "data": {
      "image/png": "[encoded data removed]",
      "text/plain": [
       "<Figure size 640x480 with 1 Axes>"
      ]
     },
     "metadata": {},
     "output_type": "display_data"
    }
   ],
   "source": [
    "# Which district is each county assigned to?\n",
    "assignment = [ -1 for i in G.nodes ]\n",
    "labeling = { i : j for i in G.nodes for j in range(k) if x[i,j].x > 0.5 }\n",
    "\n",
    "# Now add the assignments to a column of the dataframe and map it\n",
    "node_with_this_geoid = { G.nodes[i]['GEOID20'] : i for i in G.nodes }\n",
    "\n",
    "# pick a position u in the dataframe\n",
    "for u in range(G.number_of_nodes()):\n",
    "    \n",
    "    geoid = df['GEOID20'][u]\n",
    "    \n",
    "    # what node in G has this geoid?\n",
    "    i = node_with_this_geoid[geoid]\n",
    "    \n",
    "    # position u in the dataframe should be given\n",
    "    # the same district # that county i has in 'labeling'\n",
    "    assignment[u] = labeling[i]\n",
    "    \n",
    "# now add the assignments to a column of our dataframe and then map it\n",
    "df['assignment'] = assignment\n",
    "\n",
    "my_fig = df.plot(column='assignment').get_figure()"
   ]
  }
 ],
 "metadata": {
  "kernelspec": {
   "display_name": "Python 3",
   "language": "python",
   "name": "python3"
  },
  "language_info": {
   "codemirror_mode": {
    "name": "ipython",
    "version": 3
   },
   "file_extension": ".py",
   "mimetype": "text/x-python",
   "name": "python",
   "nbconvert_exporter": "python",
   "pygments_lexer": "ipython3",
   "version": "3.11.6"
  }
 },
 "nbformat": 4,
 "nbformat_minor": 4
}
