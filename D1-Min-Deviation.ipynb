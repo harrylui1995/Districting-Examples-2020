{
 "cells": [
  {
   "cell_type": "code",
   "execution_count": 1,
   "metadata": {},
   "outputs": [],
   "source": [
    "import json\n",
    "from networkx.readwrite import json_graph\n",
    "\n",
    "def read_graph_from_json(json_file):\n",
    "    with open(json_file) as f:\n",
    "        data = json.load(f)\n",
    "    return json_graph.adjacency_graph(data) "
   ]
  },
  {
   "cell_type": "code",
   "execution_count": 2,
   "metadata": {},
   "outputs": [],
   "source": [
    "# Read Oklahoma county graph from the json file \"OK_county.json\"\n",
    "filepath = 'districting-data/'\n",
    "filename = 'OK_county.json'\n",
    "\n",
    "G = read_graph_from_json( filepath + filename )"
   ]
  },
  {
   "cell_type": "code",
   "execution_count": 3,
   "metadata": {},
   "outputs": [
    {
     "name": "stdout",
     "output_type": "stream",
     "text": [
      "Node 0 represents Washita County, which had a population of 10924 in the 2020 census.\n",
      "Node 1 represents Jackson County, which had a population of 24785 in the 2020 census.\n",
      "Node 2 represents Major County, which had a population of 7782 in the 2020 census.\n",
      "Node 3 represents Delaware County, which had a population of 40397 in the 2020 census.\n",
      "Node 4 represents Custer County, which had a population of 28513 in the 2020 census.\n",
      "Node 5 represents Ellis County, which had a population of 3749 in the 2020 census.\n",
      "Node 6 represents Oklahoma County, which had a population of 796292 in the 2020 census.\n",
      "Node 7 represents Johnston County, which had a population of 10272 in the 2020 census.\n",
      "Node 8 represents Comanche County, which had a population of 121125 in the 2020 census.\n",
      "Node 9 represents Pushmataha County, which had a population of 10812 in the 2020 census.\n",
      "Node 10 represents Cleveland County, which had a population of 295528 in the 2020 census.\n",
      "Node 11 represents Wagoner County, which had a population of 80981 in the 2020 census.\n",
      "Node 12 represents Beckham County, which had a population of 22410 in the 2020 census.\n",
      "Node 13 represents Garvin County, which had a population of 25656 in the 2020 census.\n",
      "Node 14 represents Craig County, which had a population of 14107 in the 2020 census.\n",
      "Node 15 represents Cherokee County, which had a population of 47078 in the 2020 census.\n",
      "Node 16 represents Osage County, which had a population of 45818 in the 2020 census.\n",
      "Node 17 represents Tillman County, which had a population of 6968 in the 2020 census.\n",
      "Node 18 represents Logan County, which had a population of 49555 in the 2020 census.\n",
      "Node 19 represents Pittsburg County, which had a population of 43773 in the 2020 census.\n",
      "Node 20 represents Jefferson County, which had a population of 5337 in the 2020 census.\n",
      "Node 21 represents Pawnee County, which had a population of 15553 in the 2020 census.\n",
      "Node 22 represents Okfuskee County, which had a population of 11310 in the 2020 census.\n",
      "Node 23 represents McClain County, which had a population of 41662 in the 2020 census.\n",
      "Node 24 represents Le Flore County, which had a population of 48129 in the 2020 census.\n",
      "Node 25 represents Beaver County, which had a population of 5049 in the 2020 census.\n",
      "Node 26 represents Dewey County, which had a population of 4484 in the 2020 census.\n",
      "Node 27 represents Choctaw County, which had a population of 14204 in the 2020 census.\n",
      "Node 28 represents Roger Mills County, which had a population of 3442 in the 2020 census.\n",
      "Node 29 represents Bryan County, which had a population of 46067 in the 2020 census.\n",
      "Node 30 represents Latimer County, which had a population of 9444 in the 2020 census.\n",
      "Node 31 represents Texas County, which had a population of 21384 in the 2020 census.\n",
      "Node 32 represents Woodward County, which had a population of 20470 in the 2020 census.\n",
      "Node 33 represents Stephens County, which had a population of 42848 in the 2020 census.\n",
      "Node 34 represents Tulsa County, which had a population of 669279 in the 2020 census.\n",
      "Node 35 represents McIntosh County, which had a population of 18941 in the 2020 census.\n",
      "Node 36 represents Kingfisher County, which had a population of 15184 in the 2020 census.\n",
      "Node 37 represents Grant County, which had a population of 4169 in the 2020 census.\n",
      "Node 38 represents Murray County, which had a population of 13904 in the 2020 census.\n",
      "Node 39 represents Nowata County, which had a population of 9320 in the 2020 census.\n",
      "Node 40 represents Haskell County, which had a population of 11561 in the 2020 census.\n",
      "Node 41 represents Grady County, which had a population of 54795 in the 2020 census.\n",
      "Node 42 represents Payne County, which had a population of 81646 in the 2020 census.\n",
      "Node 43 represents Cimarron County, which had a population of 2296 in the 2020 census.\n",
      "Node 44 represents Garfield County, which had a population of 62846 in the 2020 census.\n",
      "Node 45 represents Adair County, which had a population of 19495 in the 2020 census.\n",
      "Node 46 represents Sequoyah County, which had a population of 39281 in the 2020 census.\n",
      "Node 47 represents Canadian County, which had a population of 154405 in the 2020 census.\n",
      "Node 48 represents Marshall County, which had a population of 15312 in the 2020 census.\n",
      "Node 49 represents Harper County, which had a population of 3272 in the 2020 census.\n",
      "Node 50 represents Alfalfa County, which had a population of 5699 in the 2020 census.\n",
      "Node 51 represents Lincoln County, which had a population of 33458 in the 2020 census.\n",
      "Node 52 represents Hughes County, which had a population of 13367 in the 2020 census.\n",
      "Node 53 represents Muskogee County, which had a population of 66339 in the 2020 census.\n",
      "Node 54 represents Ottawa County, which had a population of 30285 in the 2020 census.\n",
      "Node 55 represents Rogers County, which had a population of 95240 in the 2020 census.\n",
      "Node 56 represents Caddo County, which had a population of 26945 in the 2020 census.\n",
      "Node 57 represents Mayes County, which had a population of 39046 in the 2020 census.\n",
      "Node 58 represents Coal County, which had a population of 5266 in the 2020 census.\n",
      "Node 59 represents Carter County, which had a population of 48003 in the 2020 census.\n",
      "Node 60 represents Greer County, which had a population of 5491 in the 2020 census.\n",
      "Node 61 represents Cotton County, which had a population of 5527 in the 2020 census.\n",
      "Node 62 represents McCurtain County, which had a population of 30814 in the 2020 census.\n",
      "Node 63 represents Atoka County, which had a population of 14143 in the 2020 census.\n",
      "Node 64 represents Okmulgee County, which had a population of 36706 in the 2020 census.\n",
      "Node 65 represents Washington County, which had a population of 52455 in the 2020 census.\n",
      "Node 66 represents Seminole County, which had a population of 23556 in the 2020 census.\n",
      "Node 67 represents Woods County, which had a population of 8624 in the 2020 census.\n",
      "Node 68 represents Harmon County, which had a population of 2488 in the 2020 census.\n",
      "Node 69 represents Kay County, which had a population of 43700 in the 2020 census.\n",
      "Node 70 represents Blaine County, which had a population of 8735 in the 2020 census.\n",
      "Node 71 represents Pontotoc County, which had a population of 38065 in the 2020 census.\n",
      "Node 72 represents Creek County, which had a population of 71754 in the 2020 census.\n",
      "Node 73 represents Pottawatomie County, which had a population of 72454 in the 2020 census.\n",
      "Node 74 represents Kiowa County, which had a population of 8509 in the 2020 census.\n",
      "Node 75 represents Love County, which had a population of 10146 in the 2020 census.\n",
      "Node 76 represents Noble County, which had a population of 10924 in the 2020 census.\n"
     ]
    }
   ],
   "source": [
    "# For each node, print the node #, county name, and its population\n",
    "for node in G.nodes:\n",
    "    county_name = G.nodes[node]['NAME20']\n",
    "    county_population = G.nodes[node]['P0010001']\n",
    "    G.nodes[node]['TOTPOP'] = county_population\n",
    "    print(\"Node\",node,\"represents\",county_name,\"County, which had a population of\",county_population,\"in the 2020 census.\")"
   ]
  },
  {
   "cell_type": "code",
   "execution_count": 4,
   "metadata": {},
   "outputs": [],
   "source": [
    "# we are to solve the following task:\n",
    "# input: a population vector, desired number of districts k\n",
    "# output: a partition of the populations into k districts (not necessarily connected!) \n",
    "#            to minimize the difference between most and least populated districts\n",
    "\n",
    "import gurobipy as gp\n",
    "from gurobipy import GRB"
   ]
  },
  {
   "cell_type": "code",
   "execution_count": 5,
   "metadata": {},
   "outputs": [
    {
     "name": "stdout",
     "output_type": "stream",
     "text": [
      "Set parameter Username\n",
      "Academic license - for non-commercial use only - expires 2024-09-03\n"
     ]
    }
   ],
   "source": [
    "k = 5  # desired number of districts\n",
    "\n",
    "# create model \n",
    "m = gp.Model()\n",
    "\n",
    "# create variables\n",
    "x = m.addVars( G.nodes, k, vtype=GRB.BINARY )  # x[i,j] = 1 when county i is assigned to district j\n",
    "y = m.addVar()                                 # y = population of smallest district\n",
    "z = m.addVar()                                 # z = population of largest district"
   ]
  },
  {
   "cell_type": "code",
   "execution_count": 6,
   "metadata": {},
   "outputs": [],
   "source": [
    "# objective is to minimize absolute population deviation\n",
    "m.setObjective( z - y, GRB.MINIMIZE )\n",
    "\n",
    "# add constraints saying that each county i is assigned to one district\n",
    "m.addConstrs( gp.quicksum( x[i,j] for j in range(k) ) == 1 for i in G.nodes ) \n",
    "\n",
    "# add constraints saying that each district has population at least y\n",
    "m.addConstrs( gp.quicksum( G.nodes[i]['TOTPOP'] * x[i,j] for i in G.nodes ) >= y for j in range(k) )\n",
    "\n",
    "# add constraints saying that each district has population at most z\n",
    "m.addConstrs( gp.quicksum( G.nodes[i]['TOTPOP'] * x[i,j] for i in G.nodes ) <= z for j in range(k) )\n",
    "\n",
    "m.update()"
   ]
  },
  {
   "cell_type": "code",
   "execution_count": 7,
   "metadata": {},
   "outputs": [
    {
     "name": "stdout",
     "output_type": "stream",
     "text": [
      "Gurobi Optimizer version 10.0.3 build v10.0.3rc0 (linux64)\n",
      "\n",
      "CPU model: AMD Ryzen Threadripper 3990X 64-Core Processor, instruction set [SSE2|AVX|AVX2]\n",
      "Thread count: 64 physical cores, 128 logical processors, using up to 32 threads\n",
      "\n",
      "Optimize a model with 87 rows, 387 columns and 1165 nonzeros\n",
      "Model fingerprint: 0x4c85ac40\n",
      "Variable types: 2 continuous, 385 integer (385 binary)\n",
      "Coefficient statistics:\n",
      "  Matrix range     [1e+00, 8e+05]\n",
      "  Objective range  [1e+00, 1e+00]\n",
      "  Bounds range     [1e+00, 1e+00]\n",
      "  RHS range        [1e+00, 1e+00]\n",
      "Found heuristic solution: objective 1731757.0000\n",
      "Presolve time: 0.00s\n",
      "Presolved: 87 rows, 387 columns, 1165 nonzeros\n",
      "Variable types: 0 continuous, 387 integer (385 binary)\n",
      "\n",
      "Root relaxation: objective 0.000000e+00, 119 iterations, 0.00 seconds (0.00 work units)\n",
      "\n",
      "    Nodes    |    Current Node    |     Objective Bounds      |     Work\n",
      " Expl Unexpl |  Obj  Depth IntInf | Incumbent    BestBd   Gap | It/Node Time\n",
      "\n",
      "     0     0    0.00000    0   10 1731757.00    0.00000   100%     -    0s\n",
      "H    0     0                    11062.000000    0.00000   100%     -    0s\n",
      "H    0     0                    9510.0000000    0.00000   100%     -    0s\n",
      "     0     0 4421.40000    0    9 9510.00000 4421.40000  53.5%     -    0s\n",
      "H    0     0                    6881.0000000 4421.40000  35.7%     -    0s\n",
      "H    0     0                    6874.0000000 4421.40000  35.7%     -    0s\n",
      "     0     0 4422.00000    0   11 6874.00000 4422.00000  35.7%     -    0s\n",
      "H    0     0                    6635.0000000 4422.00000  33.4%     -    0s\n",
      "H    0     0                    6009.0000000 4422.00000  26.4%     -    0s\n",
      "H    0     0                    6000.0000000 4422.00000  26.3%     -    0s\n",
      "     0     0 4422.00000    0   14 6000.00000 4422.00000  26.3%     -    0s\n",
      "H    0     0                    5846.0000000 4422.00000  24.4%     -    0s\n",
      "     0     0 4422.00000    0   11 5846.00000 4422.00000  24.4%     -    0s\n",
      "     0     0 4422.00000    0   10 5846.00000 4422.00000  24.4%     -    0s\n",
      "     0     0 4422.00000    0   10 5846.00000 4422.00000  24.4%     -    0s\n",
      "H    0     0                    5771.0000000 4422.00000  23.4%     -    0s\n",
      "     0     2 4422.00000    0   10 5771.00000 4422.00000  23.4%     -    0s\n",
      "H   28    40                    5767.0000000 5527.00000  4.16%   7.5    0s\n",
      "H   30    40                    5749.0000000 5527.00000  3.86%   7.5    0s\n",
      "H   42    40                    5701.0000000 5527.00000  3.05%   7.0    0s\n",
      "H 1838  4027                    5693.0000000 5527.00000  2.92%   3.8    0s\n",
      "* 3661  4010              78    5635.0000000 5527.00000  1.92%   3.5    0s\n",
      "* 5669  8036              98    5629.0000000 5527.00000  1.81%   3.4    0s\n",
      "H 6912  8035                    5624.0000000 5527.00000  1.72%   3.2    0s\n",
      "* 8516  8035              91    5620.0000000 5527.00000  1.65%   3.2    0s\n",
      "H10249  7815                    5613.0000000 5527.00000  1.53%   3.2    0s\n",
      "H10251  7418                    5600.0000000 5527.00000  1.30%   3.2    0s\n",
      "H10256  7050                    5595.0000000 5527.00000  1.22%   3.2    0s\n",
      "H10258  6698                    5573.0000000 5527.00000  0.83%   3.2    0s\n",
      "H10262  6366                    5557.0000000 5527.00000  0.54%   3.2    0s\n",
      "H10273  6058                    5540.0000000 5527.00000  0.23%   0.1    0s\n",
      "H10304  5807                    5539.0000000 5527.00000  0.22%   0.1    0s\n"
     ]
    },
    {
     "name": "stdout",
     "output_type": "stream",
     "text": [
      "H11285  6245                    5538.0000000 5527.00000  0.20%   0.4    0s\n",
      "*34438 18303             120    5534.0000000 5527.00000  0.13%   1.9    1s\n",
      "H36668 18205                    5532.0000000 5527.00000  0.09%   2.0    1s\n",
      "*48515 24162             134    5529.0000000 5527.00000  0.04%   2.3    1s\n",
      "*55368 25653             123    5528.0000000 5527.00000  0.02%   2.3    1s\n",
      "H61275  2386                    5527.0000000 5527.00000  0.00%   2.2    1s\n",
      "\n",
      "Cutting planes:\n",
      "  Gomory: 1\n",
      "  Cover: 1\n",
      "  Flow cover: 1\n",
      "\n",
      "Explored 61911 nodes (167391 simplex iterations) in 1.53 seconds (0.62 work units)\n",
      "Thread count was 32 (of 128 available processors)\n",
      "\n",
      "Solution count 10: 5527 5528 5529 ... 5573\n",
      "\n",
      "Optimal solution found (tolerance 1.00e-04)\n",
      "Best objective 5.527000000000e+03, best bound 5.527000000000e+03, gap 0.0000%\n"
     ]
    }
   ],
   "source": [
    "# solve IP model\n",
    "m.optimize()"
   ]
  },
  {
   "cell_type": "code",
   "execution_count": 8,
   "metadata": {},
   "outputs": [
    {
     "name": "stdout",
     "output_type": "stream",
     "text": [
      "The minimum required deviation is 5527.0 persons.\n",
      "District 0 has these nodes = [0, 2, 3, 14, 21, 23, 25, 28, 32, 37, 41, 42, 43, 45, 46, 47, 50, 53, 59, 62, 65, 67, 69, 70, 76] and this population = 790766\n",
      "The corresponding county names are = ['Washita', 'Major', 'Delaware', 'Craig', 'Pawnee', 'McClain', 'Beaver', 'Roger Mills', 'Woodward', 'Grant', 'Grady', 'Payne', 'Cimarron', 'Adair', 'Sequoyah', 'Canadian', 'Alfalfa', 'Muskogee', 'Carter', 'McCurtain', 'Washington', 'Woods', 'Kay', 'Blaine', 'Noble']\n",
      "\n",
      "District 1 has these nodes = [6] and this population = 796292\n",
      "The corresponding county names are = ['Oklahoma']\n",
      "\n",
      "District 2 has these nodes = [5, 7, 9, 11, 12, 15, 16, 17, 19, 20, 26, 29, 30, 33, 35, 36, 39, 40, 44, 49, 51, 54, 55, 60, 61, 63, 66, 72, 75] and this population = 790765\n",
      "The corresponding county names are = ['Ellis', 'Johnston', 'Pushmataha', 'Wagoner', 'Beckham', 'Cherokee', 'Osage', 'Tillman', 'Pittsburg', 'Jefferson', 'Dewey', 'Bryan', 'Latimer', 'Stephens', 'McIntosh', 'Kingfisher', 'Nowata', 'Haskell', 'Garfield', 'Harper', 'Lincoln', 'Ottawa', 'Rogers', 'Greer', 'Cotton', 'Atoka', 'Seminole', 'Creek', 'Love']\n",
      "\n",
      "District 3 has these nodes = [8, 10, 13, 22, 24, 27, 31, 38, 48, 56, 57, 64, 68, 71, 73, 74] and this population = 790765\n",
      "The corresponding county names are = ['Comanche', 'Cleveland', 'Garvin', 'Okfuskee', 'Le Flore', 'Choctaw', 'Texas', 'Murray', 'Marshall', 'Caddo', 'Mayes', 'Okmulgee', 'Harmon', 'Pontotoc', 'Pottawatomie', 'Kiowa']\n",
      "\n",
      "District 4 has these nodes = [1, 4, 18, 34, 52, 58] and this population = 790765\n",
      "The corresponding county names are = ['Jackson', 'Custer', 'Logan', 'Tulsa', 'Hughes', 'Coal']\n",
      "\n"
     ]
    }
   ],
   "source": [
    "# print the absolute population deviation\n",
    "print(\"The minimum required deviation is\",m.objVal,\"persons.\")\n",
    "\n",
    "# retrieve the districts and their populations\n",
    "districts = [ [ i for i in G.nodes if x[i,j].x > 0.5 ] for j in range(k) ]\n",
    "district_county_names = [ [ G.nodes[i]['NAME20'] for i in district ] for district in districts ]\n",
    "district_populations = [ sum( G.nodes[i]['TOTPOP'] for i in district ) for district in districts ]\n",
    "\n",
    "# print district info\n",
    "for j in range(k):\n",
    "    print(\"District\",j,\"has these nodes =\",districts[j],\"and this population =\",district_populations[j] )\n",
    "    print(\"The corresponding county names are =\",district_county_names[j] )\n",
    "    print(\"\")"
   ]
  },
  {
   "cell_type": "code",
   "execution_count": 9,
   "metadata": {},
   "outputs": [
    {
     "name": "stdout",
     "output_type": "stream",
     "text": [
      "Is district = [0, 2, 3, 14, 21, 23, 25, 28, 32, 37, 41, 42, 43, 45, 46, 47, 50, 53, 59, 62, 65, 67, 69, 70, 76] connected? False\n",
      "Is district = [6] connected? True\n",
      "Is district = [5, 7, 9, 11, 12, 15, 16, 17, 19, 20, 26, 29, 30, 33, 35, 36, 39, 40, 44, 49, 51, 54, 55, 60, 61, 63, 66, 72, 75] connected? False\n",
      "Is district = [8, 10, 13, 22, 24, 27, 31, 38, 48, 56, 57, 64, 68, 71, 73, 74] connected? False\n",
      "Is district = [1, 4, 18, 34, 52, 58] connected? False\n"
     ]
    }
   ],
   "source": [
    "import networkx as nx\n",
    "for district in districts:\n",
    "    print(\"Is district =\", district, \"connected?\", nx.is_connected( G.subgraph( district ) ) )"
   ]
  },
  {
   "cell_type": "code",
   "execution_count": 10,
   "metadata": {},
   "outputs": [],
   "source": [
    "# Let's draw it on a map\n",
    "import geopandas as gpd"
   ]
  },
  {
   "cell_type": "code",
   "execution_count": 11,
   "metadata": {},
   "outputs": [],
   "source": [
    "# Read Oklahoma county shapefile from \"OK_county.shp\"\n",
    "filepath = 'districting-data/'\n",
    "filename = 'OK_county.shp'\n",
    "\n",
    "# Read geopandas dataframe from file\n",
    "df = gpd.read_file( filepath + filename )"
   ]
  },
  {
   "cell_type": "code",
   "execution_count": 12,
   "metadata": {},
   "outputs": [
    {
     "data": {
      "image/png": "[encoded data removed]",
      "text/plain": [
       "<Figure size 640x480 with 1 Axes>"
      ]
     },
     "metadata": {},
     "output_type": "display_data"
    }
   ],
   "source": [
    "# Which district is each county assigned to?\n",
    "assignment = [ -1 for i in G.nodes ]\n",
    "labeling = { i : j for i in G.nodes for j in range(k) if x[i,j].x > 0.5 }\n",
    "\n",
    "# Now add the assignments to a column of the dataframe and map it\n",
    "node_with_this_geoid = { G.nodes[i]['GEOID20'] : i for i in G.nodes }\n",
    "\n",
    "# pick a position u in the dataframe\n",
    "for u in range(G.number_of_nodes()):\n",
    "    \n",
    "    geoid = df['GEOID20'][u]\n",
    "    \n",
    "    # what node in G has this geoid?\n",
    "    i = node_with_this_geoid[geoid]\n",
    "    \n",
    "    # position u in the dataframe should be given\n",
    "    # the same district # that county i has in 'labeling'\n",
    "    assignment[u] = labeling[i]\n",
    "    \n",
    "# now add the assignments to a column of our dataframe and then map it\n",
    "df['assignment'] = assignment\n",
    "\n",
    "my_fig = df.plot(column='assignment').get_figure()"
   ]
  }
 ],
 "metadata": {
  "kernelspec": {
   "display_name": "Python 3",
   "language": "python",
   "name": "python3"
  },
  "language_info": {
   "codemirror_mode": {
    "name": "ipython",
    "version": 3
   },
   "file_extension": ".py",
   "mimetype": "text/x-python",
   "name": "python",
   "nbconvert_exporter": "python",
   "pygments_lexer": "ipython3",
   "version": "3.11.6"
  }
 },
 "nbformat": 4,
 "nbformat_minor": 4
}
