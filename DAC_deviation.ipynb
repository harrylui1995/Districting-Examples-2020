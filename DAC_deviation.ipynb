{
 "cells": [
  {
   "cell_type": "code",
   "execution_count": 12,
   "metadata": {},
   "outputs": [],
   "source": [
    "import json\n",
    "from networkx.readwrite import json_graph\n",
    "import random\n",
    "def read_graph_from_json(json_file):\n",
    "    with open(json_file) as f:\n",
    "        data = json.load(f)\n",
    "    return json_graph.adjacency_graph(data) "
   ]
  },
  {
   "cell_type": "code",
   "execution_count": 13,
   "metadata": {},
   "outputs": [],
   "source": [
    "# Read Oklahoma county graph from the json file \"OK_county.json\"\n",
    "filepath = 'districting-data/'\n",
    "filename = 'OK_county.json'\n",
    "\n",
    "G = read_graph_from_json( filepath + filename )"
   ]
  },
  {
   "cell_type": "code",
   "execution_count": 14,
   "metadata": {},
   "outputs": [
    {
     "name": "stdout",
     "output_type": "stream",
     "text": [
      "Node 0 represents Washita County, which had a workload of 2\n",
      "Node 1 represents Jackson County, which had a workload of 3\n",
      "Node 2 represents Major County, which had a workload of 5\n",
      "Node 3 represents Delaware County, which had a workload of 8\n",
      "Node 4 represents Custer County, which had a workload of 7\n",
      "Node 5 represents Ellis County, which had a workload of 7\n",
      "Node 6 represents Oklahoma County, which had a workload of 2\n",
      "Node 7 represents Johnston County, which had a workload of 2\n",
      "Node 8 represents Comanche County, which had a workload of 10\n",
      "Node 9 represents Pushmataha County, which had a workload of 9\n",
      "Node 10 represents Cleveland County, which had a workload of 6\n",
      "Node 11 represents Wagoner County, which had a workload of 9\n",
      "Node 12 represents Beckham County, which had a workload of 10\n",
      "Node 13 represents Garvin County, which had a workload of 2\n",
      "Node 14 represents Craig County, which had a workload of 1\n",
      "Node 15 represents Cherokee County, which had a workload of 2\n",
      "Node 16 represents Osage County, which had a workload of 4\n",
      "Node 17 represents Tillman County, which had a workload of 2\n",
      "Node 18 represents Logan County, which had a workload of 5\n",
      "Node 19 represents Pittsburg County, which had a workload of 4\n",
      "Node 20 represents Jefferson County, which had a workload of 2\n",
      "Node 21 represents Pawnee County, which had a workload of 9\n",
      "Node 22 represents Okfuskee County, which had a workload of 7\n",
      "Node 23 represents McClain County, which had a workload of 10\n",
      "Node 24 represents Le Flore County, which had a workload of 9\n",
      "Node 25 represents Beaver County, which had a workload of 2\n",
      "Node 26 represents Dewey County, which had a workload of 7\n",
      "Node 27 represents Choctaw County, which had a workload of 5\n",
      "Node 28 represents Roger Mills County, which had a workload of 8\n",
      "Node 29 represents Bryan County, which had a workload of 3\n",
      "Node 30 represents Latimer County, which had a workload of 4\n",
      "Node 31 represents Texas County, which had a workload of 8\n",
      "Node 32 represents Woodward County, which had a workload of 7\n",
      "Node 33 represents Stephens County, which had a workload of 6\n",
      "Node 34 represents Tulsa County, which had a workload of 8\n",
      "Node 35 represents McIntosh County, which had a workload of 8\n",
      "Node 36 represents Kingfisher County, which had a workload of 2\n",
      "Node 37 represents Grant County, which had a workload of 10\n",
      "Node 38 represents Murray County, which had a workload of 1\n",
      "Node 39 represents Nowata County, which had a workload of 3\n",
      "Node 40 represents Haskell County, which had a workload of 3\n",
      "Node 41 represents Grady County, which had a workload of 10\n",
      "Node 42 represents Payne County, which had a workload of 5\n",
      "Node 43 represents Cimarron County, which had a workload of 6\n",
      "Node 44 represents Garfield County, which had a workload of 3\n",
      "Node 45 represents Adair County, which had a workload of 1\n",
      "Node 46 represents Sequoyah County, which had a workload of 8\n",
      "Node 47 represents Canadian County, which had a workload of 5\n",
      "Node 48 represents Marshall County, which had a workload of 10\n",
      "Node 49 represents Harper County, which had a workload of 8\n",
      "Node 50 represents Alfalfa County, which had a workload of 1\n",
      "Node 51 represents Lincoln County, which had a workload of 6\n",
      "Node 52 represents Hughes County, which had a workload of 5\n",
      "Node 53 represents Muskogee County, which had a workload of 7\n",
      "Node 54 represents Ottawa County, which had a workload of 6\n",
      "Node 55 represents Rogers County, which had a workload of 6\n",
      "Node 56 represents Caddo County, which had a workload of 2\n",
      "Node 57 represents Mayes County, which had a workload of 9\n",
      "Node 58 represents Coal County, which had a workload of 10\n",
      "Node 59 represents Carter County, which had a workload of 3\n",
      "Node 60 represents Greer County, which had a workload of 3\n",
      "Node 61 represents Cotton County, which had a workload of 7\n",
      "Node 62 represents McCurtain County, which had a workload of 10\n",
      "Node 63 represents Atoka County, which had a workload of 9\n",
      "Node 64 represents Okmulgee County, which had a workload of 9\n",
      "Node 65 represents Washington County, which had a workload of 6\n",
      "Node 66 represents Seminole County, which had a workload of 10\n",
      "Node 67 represents Woods County, which had a workload of 3\n",
      "Node 68 represents Harmon County, which had a workload of 8\n",
      "Node 69 represents Kay County, which had a workload of 9\n",
      "Node 70 represents Blaine County, which had a workload of 2\n",
      "Node 71 represents Pontotoc County, which had a workload of 1\n",
      "Node 72 represents Creek County, which had a workload of 4\n",
      "Node 73 represents Pottawatomie County, which had a workload of 6\n",
      "Node 74 represents Kiowa County, which had a workload of 4\n",
      "Node 75 represents Love County, which had a workload of 10\n",
      "Node 76 represents Noble County, which had a workload of 2\n"
     ]
    }
   ],
   "source": [
    "for node in G.nodes:\n",
    "    # assign a random workload for each block from 1 to 10\n",
    "    county_name = G.nodes[node]['NAME20']\n",
    "    G.nodes[node]['workload'] = random.randint(1,10)\n",
    "    G.nodes[node]['C_X'] = G.nodes[node]['INTPTLON20']  # longitude of block's center\n",
    "    G.nodes[node]['C_Y'] = G.nodes[node]['INTPTLAT20']  # latitude of block's center\n",
    "    print(\"Node\",node,\"represents\",county_name,\"County, which had a workload of\",G.nodes[node]['workload'])"
   ]
  },
  {
   "cell_type": "code",
   "execution_count": 15,
   "metadata": {},
   "outputs": [],
   "source": [
    "# we are to solve the following task:\n",
    "# input: a workload vector, desired number of sectors k\n",
    "# output: a partition of the workloads into k sectors (not necessarily connected!) \n",
    "#            to minimize the difference between most and least workload districts\n",
    "\n",
    "import gurobipy as gp\n",
    "from gurobipy import GRB"
   ]
  },
  {
   "cell_type": "code",
   "execution_count": 16,
   "metadata": {},
   "outputs": [],
   "source": [
    "k = 10  # desired number of sectors\n",
    "\n",
    "# create model \n",
    "m = gp.Model()\n",
    "\n",
    "# create variables\n",
    "x = m.addVars( G.nodes, k, vtype=GRB.BINARY )  # x[i,j] = 1 when block i is assigned to sector with center block j\n",
    "y = m.addVar()                                 # y = workload of smallest sector\n",
    "z = m.addVar()                                 # z = workload of largest sector"
   ]
  },
  {
   "cell_type": "code",
   "execution_count": 17,
   "metadata": {},
   "outputs": [],
   "source": [
    "# objective is to minimize absolute population deviation\n",
    "m.setObjective( z - y, GRB.MINIMIZE )\n",
    "\n",
    "# add constraints saying that each county i is assigned to one district\n",
    "m.addConstrs( gp.quicksum( x[i,j] for j in range(k) ) == 1 for i in G.nodes ) \n",
    "\n",
    "# add constraints saying that each district has population at least y\n",
    "m.addConstrs( gp.quicksum( G.nodes[i]['workload'] * x[i,j] for i in G.nodes ) >= y for j in range(k) )\n",
    "\n",
    "# add constraints saying that each district has population at most z\n",
    "m.addConstrs( gp.quicksum( G.nodes[i]['workload'] * x[i,j] for i in G.nodes ) <= z for j in range(k) )\n",
    "\n",
    "m.update()"
   ]
  },
  {
   "cell_type": "code",
   "execution_count": 18,
   "metadata": {},
   "outputs": [
    {
     "name": "stdout",
     "output_type": "stream",
     "text": [
      "Gurobi Optimizer version 10.0.3 build v10.0.3rc0 (linux64)\n",
      "\n",
      "CPU model: AMD Ryzen Threadripper 3990X 64-Core Processor, instruction set [SSE2|AVX|AVX2]\n",
      "Thread count: 64 physical cores, 128 logical processors, using up to 32 threads\n",
      "\n",
      "Optimize a model with 97 rows, 772 columns and 2330 nonzeros\n",
      "Model fingerprint: 0x3c2175c6\n",
      "Variable types: 2 continuous, 770 integer (770 binary)\n",
      "Coefficient statistics:\n",
      "  Matrix range     [1e+00, 1e+01]\n",
      "  Objective range  [1e+00, 1e+00]\n",
      "  Bounds range     [1e+00, 1e+00]\n",
      "  RHS range        [1e+00, 1e+00]\n",
      "Found heuristic solution: objective 55.0000000\n",
      "Presolve time: 0.01s\n",
      "Presolved: 97 rows, 772 columns, 2330 nonzeros\n",
      "Variable types: 0 continuous, 772 integer (770 binary)\n",
      "\n",
      "Root relaxation: objective 0.000000e+00, 123 iterations, 0.00 seconds (0.00 work units)\n",
      "\n",
      "    Nodes    |    Current Node    |     Objective Bounds      |     Work\n",
      " Expl Unexpl |  Obj  Depth IntInf | Incumbent    BestBd   Gap | It/Node Time\n",
      "\n",
      "     0     0    0.00000    0   17   55.00000    0.00000   100%     -    0s\n",
      "H    0     0                       4.0000000    0.00000   100%     -    0s\n",
      "H    0     0                       3.0000000    0.00000   100%     -    0s\n",
      "     0     0    0.34286    0   24    3.00000    0.34286  88.6%     -    0s\n",
      "H    0     0                       2.0000000    0.34286  82.9%     -    0s\n",
      "H    0     0                       1.0000000    0.34286  65.7%     -    0s\n",
      "     0     0    0.34286    0   24    1.00000    0.34286  65.7%     -    0s\n",
      "\n",
      "Cutting planes:\n",
      "  Gomory: 1\n",
      "  MIR: 2\n",
      "\n",
      "Explored 1 nodes (493 simplex iterations) in 0.12 seconds (0.06 work units)\n",
      "Thread count was 32 (of 128 available processors)\n",
      "\n",
      "Solution count 5: 1 2 3 ... 55\n",
      "\n",
      "Optimal solution found (tolerance 1.00e-04)\n",
      "Best objective 1.000000000000e+00, best bound 1.000000000000e+00, gap 0.0000%\n"
     ]
    }
   ],
   "source": [
    "# solve IP model\n",
    "m.optimize()"
   ]
  },
  {
   "cell_type": "code",
   "execution_count": 19,
   "metadata": {},
   "outputs": [
    {
     "name": "stdout",
     "output_type": "stream",
     "text": [
      "sector 0 has these nodes = [0, 3, 15, 38, 41, 46, 68, 74] and this workload = 43\n",
      "The corresponding block names are = ['Washita', 'Delaware', 'Cherokee', 'Murray', 'Grady', 'Sequoyah', 'Harmon', 'Kiowa']\n",
      "\n",
      "sector 1 has these nodes = [10, 13, 31, 44, 45, 48, 72, 75] and this workload = 44\n",
      "The corresponding block names are = ['Cleveland', 'Garvin', 'Texas', 'Garfield', 'Adair', 'Marshall', 'Creek', 'Love']\n",
      "\n",
      "sector 2 has these nodes = [16, 19, 23, 32, 40, 61, 63] and this workload = 44\n",
      "The corresponding block names are = ['Osage', 'Pittsburg', 'McClain', 'Woodward', 'Haskell', 'Cotton', 'Atoka']\n",
      "\n",
      "sector 3 has these nodes = [4, 25, 33, 43, 50, 58, 65, 67, 70] and this workload = 43\n",
      "The corresponding block names are = ['Custer', 'Beaver', 'Stephens', 'Cimarron', 'Alfalfa', 'Coal', 'Washington', 'Woods', 'Blaine']\n",
      "\n",
      "sector 4 has these nodes = [6, 24, 30, 37, 51, 53, 54] and this workload = 44\n",
      "The corresponding block names are = ['Oklahoma', 'Le Flore', 'Latimer', 'Grant', 'Lincoln', 'Muskogee', 'Ottawa']\n",
      "\n",
      "sector 5 has these nodes = [11, 14, 17, 20, 27, 42, 56, 60, 69, 73] and this workload = 44\n",
      "The corresponding block names are = ['Wagoner', 'Craig', 'Tillman', 'Jefferson', 'Choctaw', 'Payne', 'Caddo', 'Greer', 'Kay', 'Pottawatomie']\n",
      "\n",
      "sector 6 has these nodes = [2, 8, 57, 64, 66] and this workload = 43\n",
      "The corresponding block names are = ['Major', 'Comanche', 'Mayes', 'Okmulgee', 'Seminole']\n",
      "\n",
      "sector 7 has these nodes = [1, 9, 18, 22, 26, 28, 52] and this workload = 44\n",
      "The corresponding block names are = ['Jackson', 'Pushmataha', 'Logan', 'Okfuskee', 'Dewey', 'Roger Mills', 'Hughes']\n",
      "\n",
      "sector 8 has these nodes = [12, 35, 36, 47, 55, 62, 76] and this workload = 43\n",
      "The corresponding block names are = ['Beckham', 'McIntosh', 'Kingfisher', 'Canadian', 'Rogers', 'McCurtain', 'Noble']\n",
      "\n",
      "sector 9 has these nodes = [5, 7, 21, 29, 34, 39, 49, 59, 71] and this workload = 44\n",
      "The corresponding block names are = ['Ellis', 'Johnston', 'Pawnee', 'Bryan', 'Tulsa', 'Nowata', 'Harper', 'Carter', 'Pontotoc']\n",
      "\n"
     ]
    }
   ],
   "source": [
    "# retrieve the districts and their populations\n",
    "districts = [ [ i for i in G.nodes if x[i,j].x > 0.5 ] for j in range(k) ]\n",
    "district_county_names = [ [ G.nodes[i]['NAME20'] for i in district ] for district in districts ]\n",
    "district_populations = [ sum( G.nodes[i]['workload'] for i in district ) for district in districts ]\n",
    "\n",
    "# print district info\n",
    "for j in range(k):\n",
    "    print(\"sector\",j,\"has these nodes =\",districts[j],\"and this workload =\",district_populations[j] )\n",
    "    print(\"The corresponding block names are =\",district_county_names[j] )\n",
    "    print(\"\")"
   ]
  },
  {
   "cell_type": "code",
   "execution_count": 20,
   "metadata": {},
   "outputs": [
    {
     "name": "stdout",
     "output_type": "stream",
     "text": [
      "Is sector = [0, 3, 15, 38, 41, 46, 68, 74] connected? False\n",
      "Is sector = [10, 13, 31, 44, 45, 48, 72, 75] connected? False\n",
      "Is sector = [16, 19, 23, 32, 40, 61, 63] connected? False\n",
      "Is sector = [4, 25, 33, 43, 50, 58, 65, 67, 70] connected? False\n",
      "Is sector = [6, 24, 30, 37, 51, 53, 54] connected? False\n",
      "Is sector = [11, 14, 17, 20, 27, 42, 56, 60, 69, 73] connected? False\n",
      "Is sector = [2, 8, 57, 64, 66] connected? False\n",
      "Is sector = [1, 9, 18, 22, 26, 28, 52] connected? False\n",
      "Is sector = [12, 35, 36, 47, 55, 62, 76] connected? False\n",
      "Is sector = [5, 7, 21, 29, 34, 39, 49, 59, 71] connected? False\n"
     ]
    }
   ],
   "source": [
    "import networkx as nx\n",
    "for district in districts:\n",
    "    print(\"Is sector =\", district, \"connected?\", nx.is_connected( G.subgraph( district ) ) )"
   ]
  },
  {
   "cell_type": "code",
   "execution_count": 21,
   "metadata": {},
   "outputs": [],
   "source": [
    "# Let's draw it on a map\n",
    "import geopandas as gpd\n",
    "# Read Oklahoma county shapefile from \"OK_county.shp\"\n",
    "filepath = 'districting-data/'\n",
    "filename = 'OK_county.shp'\n",
    "\n",
    "# Read geopandas dataframe from file\n",
    "df = gpd.read_file( filepath + filename )"
   ]
  },
  {
   "cell_type": "code",
   "execution_count": 22,
   "metadata": {},
   "outputs": [
    {
     "data": {
      "image/png": "[encoded data removed]",
      "text/plain": [
       "<Figure size 640x480 with 1 Axes>"
      ]
     },
     "metadata": {},
     "output_type": "display_data"
    }
   ],
   "source": [
    "# Which district is each county assigned to?\n",
    "assignment = [ -1 for i in G.nodes ]\n",
    "labeling = { i : j for i in G.nodes for j in range(k) if x[i,j].x > 0.5 }\n",
    "\n",
    "# Now add the assignments to a column of the dataframe and map it\n",
    "node_with_this_geoid = { G.nodes[i]['GEOID20'] : i for i in G.nodes }\n",
    "\n",
    "# pick a position u in the dataframe\n",
    "for u in range(G.number_of_nodes()):\n",
    "    \n",
    "    geoid = df['GEOID20'][u]\n",
    "    \n",
    "    # what node in G has this geoid?\n",
    "    i = node_with_this_geoid[geoid]\n",
    "    \n",
    "    # position u in the dataframe should be given\n",
    "    # the same district # that county i has in 'labeling'\n",
    "    assignment[u] = labeling[i]\n",
    "    \n",
    "# now add the assignments to a column of our dataframe and then map it\n",
    "df['assignment'] = assignment\n",
    "\n",
    "my_fig = df.plot(column='assignment').get_figure()"
   ]
  }
 ],
 "metadata": {
  "kernelspec": {
   "display_name": "mip",
   "language": "python",
   "name": "python3"
  },
  "language_info": {
   "codemirror_mode": {
    "name": "ipython",
    "version": 3
   },
   "file_extension": ".py",
   "mimetype": "text/x-python",
   "name": "python",
   "nbconvert_exporter": "python",
   "pygments_lexer": "ipython3",
   "version": "3.11.6"
  }
 },
 "nbformat": 4,
 "nbformat_minor": 2
}
