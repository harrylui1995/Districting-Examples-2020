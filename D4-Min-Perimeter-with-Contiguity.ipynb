{
 "cells": [
  {
   "cell_type": "code",
   "execution_count": 1,
   "metadata": {},
   "outputs": [],
   "source": [
    "import json\n",
    "from networkx.readwrite import json_graph\n",
    "\n",
    "def read_graph_from_json(json_file):\n",
    "    with open(json_file) as f:\n",
    "        data = json.load(f)\n",
    "    return json_graph.adjacency_graph(data) "
   ]
  },
  {
   "cell_type": "code",
   "execution_count": 2,
   "metadata": {},
   "outputs": [],
   "source": [
    "# Read Oklahoma county graph from the json file \"OK_county.json\"\n",
    "filepath = 'districting-data/'\n",
    "filename = 'OK_county.json'\n",
    "\n",
    "G = read_graph_from_json( filepath + filename )"
   ]
  },
  {
   "cell_type": "code",
   "execution_count": 3,
   "metadata": {},
   "outputs": [],
   "source": [
    "for node in G.nodes:\n",
    "    G.nodes[node]['TOTPOP'] = G.nodes[node]['P0010001']"
   ]
  },
  {
   "cell_type": "code",
   "execution_count": 4,
   "metadata": {},
   "outputs": [
    {
     "name": "stdout",
     "output_type": "stream",
     "text": [
      "Using L = 783952 and U = 799789 and k = 5\n"
     ]
    }
   ],
   "source": [
    "# Let's impose a 2% population deviation (+/-1%)\n",
    "deviation = 0.02\n",
    "\n",
    "import math\n",
    "k = 5          # number of districts\n",
    "total_population = sum( G.nodes[node]['TOTPOP'] for node in G.nodes )\n",
    "\n",
    "L = math.ceil( ( 1 - deviation / 2 ) * total_population / k )\n",
    "U = math.floor( ( 1 + deviation / 2 ) * total_population / k )\n",
    "print(\"Using L =\",L,\"and U =\",U,\"and k =\",k)"
   ]
  },
  {
   "cell_type": "code",
   "execution_count": 5,
   "metadata": {},
   "outputs": [
    {
     "name": "stdout",
     "output_type": "stream",
     "text": [
      "Set parameter Username\n",
      "Academic license - for non-commercial use only - expires 2024-09-03\n"
     ]
    }
   ],
   "source": [
    "import gurobipy as gp\n",
    "from gurobipy import GRB\n",
    "\n",
    "# create model \n",
    "m = gp.Model()\n",
    "\n",
    "# create variables\n",
    "x = m.addVars(G.nodes, k, vtype=GRB.BINARY) # x[i,j] equals one when county i is assigned to district j\n",
    "y = m.addVars(G.edges, vtype=GRB.BINARY)    # y[u,v] equals one when edge {u,v} is cut"
   ]
  },
  {
   "cell_type": "code",
   "execution_count": 6,
   "metadata": {},
   "outputs": [],
   "source": [
    "# objective is to minimize weighted cut edges (district perimeter lengths)\n",
    "m.setObjective( gp.quicksum( G.edges[u,v]['shared_perim'] * y[u,v] for u,v in G.edges ), GRB.MINIMIZE )"
   ]
  },
  {
   "cell_type": "code",
   "execution_count": 7,
   "metadata": {},
   "outputs": [],
   "source": [
    "# add constraints saying that each county i is assigned to one district\n",
    "m.addConstrs( gp.quicksum( x[i,j] for j in range(k)) == 1 for i in G.nodes )\n",
    "\n",
    "# add constraints saying that each district has population at least L and at most U\n",
    "m.addConstrs( gp.quicksum( G.nodes[i]['TOTPOP'] * x[i,j] for i in G.nodes) >= L for j in range(k) )\n",
    "m.addConstrs( gp.quicksum( G.nodes[i]['TOTPOP'] * x[i,j] for i in G.nodes) <= U for j in range(k) )\n",
    "\n",
    "# add constraints saying that edge {u,v} is cut if u is assigned to district j but v is not.\n",
    "m.addConstrs( x[u,j] - x[v,j] <= y[u,v] for u,v in G.edges for j in range(k) )\n",
    "\n",
    "m.update()"
   ]
  },
  {
   "cell_type": "code",
   "execution_count": 8,
   "metadata": {},
   "outputs": [],
   "source": [
    "# Now, let's add contiguity constraints and re-solve the model.\n",
    "# We will use the contiguity constraints of Hojny et al. (MPC, 2021)\n",
    "#   https://link.springer.com/article/10.1007/s12532-020-00186-3\n",
    "\n",
    "# Add root variables: r[i,j] equals 1 if node i is the \"root\" of district j\n",
    "r = m.addVars( G.nodes, k, vtype=GRB.BINARY)\n",
    "\n",
    "# To solve the MIP faster, fix some district roots:\n",
    "\n",
    "r[6,0].LB = 1  # fix Oklahoma county as root of district 0\n",
    "r[34,1].LB = 1 # fix Tulsa county as root of district 1\n",
    "r[8,2].LB = 1  # fix Comanche county as root of district 2\n",
    "\n",
    "# Add flow variables: f[u,v] = amount of flow sent across arc uv \n",
    "#  Flows are sent across arcs of the directed version of G which we call DG\n",
    "\n",
    "import networkx as nx\n",
    "DG = nx.DiGraph(G)      # directed version of G\n",
    "\n",
    "f = m.addVars( DG.edges )"
   ]
  },
  {
   "cell_type": "code",
   "execution_count": 9,
   "metadata": {},
   "outputs": [],
   "source": [
    "# The big-M proposed by Hojny et al.\n",
    "M = G.number_of_nodes() - k + 1\n",
    "\n",
    "# Each district j should have one root\n",
    "m.addConstrs( gp.quicksum( r[i,j] for i in G.nodes ) == 1 for j in range(k) )\n",
    "\n",
    "# If node i is not assigned to district j, then it cannot be its root\n",
    "m.addConstrs( r[i,j] <= x[i,j] for i in G.nodes for j in range(k) ) \n",
    "\n",
    "# if not a root, consume some flow.\n",
    "# if a root, only send out (so much) flow.\n",
    "m.addConstrs( gp.quicksum( f[j,i] - f[i,j] for j in G.neighbors(i) ) \n",
    "             >= 1 - M * gp.quicksum( r[i,j] for j in range(k) ) for i in G.nodes )\n",
    "\n",
    "# do not send flow across cut edges\n",
    "m.addConstrs( f[i,j] + f[j,i] <= M * ( 1 - y[i,j] ) for i,j in G.edges )\n",
    "\n",
    "m.update()"
   ]
  },
  {
   "cell_type": "code",
   "execution_count": 10,
   "metadata": {},
   "outputs": [
    {
     "name": "stdout",
     "output_type": "stream",
     "text": [
      "Gurobi Optimizer version 10.0.3 build v10.0.3rc0 (linux64)\n",
      "\n",
      "CPU model: AMD Ryzen Threadripper 3990X 64-Core Processor, instruction set [SSE2|AVX|AVX2]\n",
      "Thread count: 64 physical cores, 128 logical processors, using up to 32 threads\n",
      "\n",
      "Optimize a model with 1724 rows, 1355 columns and 6985 nonzeros\n",
      "Model fingerprint: 0x8522f0f1\n",
      "Variable types: 390 continuous, 965 integer (965 binary)\n",
      "Coefficient statistics:\n",
      "  Matrix range     [1e+00, 8e+05]\n",
      "  Objective range  [9e-04, 1e+00]\n",
      "  Bounds range     [1e+00, 1e+00]\n",
      "  RHS range        [1e+00, 8e+05]\n",
      "Presolve removed 521 rows and 353 columns\n",
      "Presolve time: 0.04s\n",
      "Presolved: 1203 rows, 1002 columns, 4943 nonzeros\n",
      "Variable types: 380 continuous, 622 integer (622 binary)\n",
      "\n",
      "Root relaxation: objective 5.492575e+00, 991 iterations, 0.05 seconds (0.04 work units)\n",
      "\n",
      "    Nodes    |    Current Node    |     Objective Bounds      |     Work\n",
      " Expl Unexpl |  Obj  Depth IntInf | Incumbent    BestBd   Gap | It/Node Time\n",
      "\n",
      "     0     0    5.49258    0  326          -    5.49258      -     -    0s\n",
      "     0     0    6.08855    0  275          -    6.08855      -     -    0s\n",
      "     0     0    6.12654    0  278          -    6.12654      -     -    0s\n",
      "     0     0    6.13030    0  278          -    6.13030      -     -    0s\n",
      "     0     0    6.13030    0  278          -    6.13030      -     -    0s\n",
      "     0     0    6.29341    0  375          -    6.29341      -     -    0s\n",
      "     0     0    6.31041    0  387          -    6.31041      -     -    0s\n",
      "     0     0    6.31140    0  392          -    6.31140      -     -    0s\n",
      "     0     0    6.31145    0  392          -    6.31145      -     -    0s\n",
      "     0     0    6.98132    0  355          -    6.98132      -     -    1s\n",
      "     0     0    6.98132    0  379          -    6.98132      -     -    1s\n",
      "     0     0    6.98132    0  391          -    6.98132      -     -    1s\n",
      "     0     0    6.98132    0  396          -    6.98132      -     -    1s\n",
      "     0     0    6.98132    0  389          -    6.98132      -     -    1s\n",
      "     0     0    6.98132    0  385          -    6.98132      -     -    1s\n",
      "     0     0    6.98132    0  381          -    6.98132      -     -    1s\n",
      "     0     0    6.98132    0  389          -    6.98132      -     -    1s\n",
      "     0     0    6.98132    0  376          -    6.98132      -     -    1s\n",
      "     0     0    6.98132    0  378          -    6.98132      -     -    1s\n",
      "     0     0    6.98132    0  377          -    6.98132      -     -    1s\n",
      "     0     0    6.98132    0  378          -    6.98132      -     -    1s\n",
      "     0     0    6.98132    0  378          -    6.98132      -     -    1s\n",
      "     0     2    6.98132    0  376          -    6.98132      -     -    1s\n",
      "H 5051  2993                      15.6182577    8.89048  43.1%  74.6    4s\n",
      "H 5307  2759                      15.0241374    8.89192  40.8%  73.9    5s\n",
      "H 5464  2738                      15.0241372    8.89192  40.8%  77.4    6s\n",
      "H 5482  2601                      14.4513247    8.89192  38.5%  77.6    6s\n",
      "H 5497  2504                      14.0279072    8.89192  36.6%  77.7    7s\n",
      "H 6388  2738                      13.9761325    8.89192  36.4%  78.7    9s\n",
      "H 6398  2623                      13.8588443    8.89192  35.8%  78.7    9s\n",
      "H 6399  2515                      13.2072346    8.89192  32.7%  78.7    9s\n",
      "H 6413  2410                      12.4579593    8.89192  28.6%  78.7    9s\n",
      "  6529  2439    9.44741   30  181   12.45796    8.89192  28.6%  78.6   10s\n",
      " 32523  3443     cutoff   30        12.45796   11.42411  8.30%  73.2   15s\n",
      "\n",
      "Explored 46330 nodes (3024486 simplex iterations) in 16.20 seconds (18.94 work units)\n",
      "Thread count was 32 (of 128 available processors)\n",
      "\n",
      "Solution count 9: 12.458 12.458 13.2072 ... 15.6183\n",
      "\n",
      "Optimal solution found (tolerance 1.00e-04)\n",
      "Best objective 1.245795932646e+01, best bound 1.245795932646e+01, gap 0.0000%\n"
     ]
    }
   ],
   "source": [
    "# solve IP model\n",
    "m.optimize()"
   ]
  },
  {
   "cell_type": "code",
   "execution_count": 11,
   "metadata": {},
   "outputs": [
    {
     "name": "stdout",
     "output_type": "stream",
     "text": [
      "The number of cut edges is 12.457959326456109\n",
      "District 0 has population 796292 and contains counties ['Oklahoma']\n",
      "\n",
      "District 1 has population 785274 and contains counties ['Osage', 'Pawnee', 'Tulsa', 'Kay', 'Noble']\n",
      "\n",
      "District 2 has population 795964 and contains counties ['Washita', 'Jackson', 'Major', 'Custer', 'Ellis', 'Comanche', 'Beckham', 'Garvin', 'Tillman', 'Jefferson', 'Beaver', 'Dewey', 'Roger Mills', 'Texas', 'Woodward', 'Stephens', 'Kingfisher', 'Grant', 'Murray', 'Grady', 'Cimarron', 'Garfield', 'Canadian', 'Harper', 'Alfalfa', 'Caddo', 'Carter', 'Greer', 'Cotton', 'Woods', 'Harmon', 'Blaine', 'Kiowa', 'Love']\n",
      "\n",
      "District 3 has population 797224 and contains counties ['Delaware', 'Pushmataha', 'Wagoner', 'Craig', 'Cherokee', 'Pittsburg', 'Le Flore', 'Choctaw', 'Bryan', 'Latimer', 'McIntosh', 'Nowata', 'Haskell', 'Adair', 'Sequoyah', 'Marshall', 'Muskogee', 'Ottawa', 'Rogers', 'Mayes', 'McCurtain', 'Atoka', 'Washington']\n",
      "\n",
      "District 4 has population 784599 and contains counties ['Johnston', 'Cleveland', 'Logan', 'Okfuskee', 'McClain', 'Payne', 'Lincoln', 'Hughes', 'Coal', 'Okmulgee', 'Seminole', 'Pontotoc', 'Creek', 'Pottawatomie']\n",
      "\n"
     ]
    }
   ],
   "source": [
    "print(\"The number of cut edges is\",m.objval)\n",
    "\n",
    "# retrieve the districts and their populations\n",
    "districts = [ [i for i in G.nodes if x[i,j].x > 0.5] for j in range(k)]\n",
    "district_counties = [ [ G.nodes[i][\"NAME20\"] for i in districts[j] ] for j in range(k)]\n",
    "district_populations = [ sum(G.nodes[i][\"TOTPOP\"] for i in districts[j]) for j in range(k) ]\n",
    "\n",
    "# print district info\n",
    "for j in range(k):\n",
    "    print(\"District\",j,\"has population\",district_populations[j],\"and contains counties\",district_counties[j])\n",
    "    print(\"\")"
   ]
  },
  {
   "cell_type": "code",
   "execution_count": 12,
   "metadata": {},
   "outputs": [],
   "source": [
    "# Let's draw it on a map\n",
    "import geopandas as gpd"
   ]
  },
  {
   "cell_type": "code",
   "execution_count": 13,
   "metadata": {},
   "outputs": [],
   "source": [
    "# Read Oklahoma county shapefile from \"OK_county.shp\"\n",
    "filepath = 'districting-data/'\n",
    "filename = 'OK_county.shp'\n",
    "\n",
    "# Read geopandas dataframe from file\n",
    "df = gpd.read_file( filepath + filename )"
   ]
  },
  {
   "cell_type": "code",
   "execution_count": 14,
   "metadata": {},
   "outputs": [
    {
     "data": {
      "image/png": "[encoded data removed]",
      "text/plain": [
       "<Figure size 640x480 with 1 Axes>"
      ]
     },
     "metadata": {},
     "output_type": "display_data"
    }
   ],
   "source": [
    "# Which district is each county assigned to?\n",
    "assignment = [ -1 for i in G.nodes ]\n",
    "\n",
    "labeling = { i : j for i in G.nodes for j in range(k) if x[i,j].x > 0.5 }\n",
    "\n",
    "# Now add the assignments to a column of the dataframe and map it\n",
    "node_with_this_geoid = { G.nodes[i]['GEOID20'] : i for i in G.nodes }\n",
    "\n",
    "# pick a position u in the dataframe\n",
    "for u in range(G.number_of_nodes()):\n",
    "    \n",
    "    geoid = df['GEOID20'][u]\n",
    "    \n",
    "    # what node in G has this geoid?\n",
    "    i = node_with_this_geoid[geoid]\n",
    "    \n",
    "    # position u in the dataframe should be given\n",
    "    # the same district # that county i has in 'labeling'\n",
    "    assignment[u] = labeling[i]\n",
    "    \n",
    "# now add the assignments to a column of our dataframe and then map it\n",
    "df['assignment'] = assignment\n",
    "\n",
    "my_fig = df.plot(column='assignment').get_figure()"
   ]
  },
  {
   "cell_type": "code",
   "execution_count": null,
   "metadata": {},
   "outputs": [],
   "source": []
  }
 ],
 "metadata": {
  "kernelspec": {
   "display_name": "Python 3",
   "language": "python",
   "name": "python3"
  },
  "language_info": {
   "codemirror_mode": {
    "name": "ipython",
    "version": 3
   },
   "file_extension": ".py",
   "mimetype": "text/x-python",
   "name": "python",
   "nbconvert_exporter": "python",
   "pygments_lexer": "ipython3",
   "version": "3.11.6"
  }
 },
 "nbformat": 4,
 "nbformat_minor": 4
}
